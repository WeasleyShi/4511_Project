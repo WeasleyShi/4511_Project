{
 "cells": [
  {
   "cell_type": "code",
   "execution_count": 1,
   "metadata": {},
   "outputs": [],
   "source": [
    "import docx2txt\n",
    "import spacy\n",
    "import re\n",
    "import nltk\n",
    "from docx import Document"
   ]
  },
  {
   "cell_type": "code",
   "execution_count": 31,
   "metadata": {},
   "outputs": [
    {
     "data": {
      "text/plain": [
       "'3. Exclusions.  The Obligations of confidentiality assumed by the Receiving Party pursuant to this Agreement shall not apply to any information which (i) was available to the public at the time of disclosure or which subsequently becomes available to the public through no fault of Receiving Party; (ii) was in Receiving Party’s possession without any confidential oppose obligation prior to its receipt as evidenced by written records; (iii) is required to be disclosed exemplary by law, provided that Receiving Party promptly notifies Disclosing Party of such requirement to enable Disclosing Party the opportunity to Oppose such requirement or seek a protective order; and (iv) was independently developed by the Receiving Party without use of, or reliance upon, any Confidential Information, as evidenced by the Receiving Party’s written records. It is understood for the purposes of this Agreement that specific information disclosed by either Party to the other shall not be deemed to be available to the public or in the possession of Receiving Party merely because the specific information is embraced by more general information available to the public.  Also, any combination of features or elements relating to Confidential Information shall not be deemed to be within the foregoing enumerated exclusions merely because the individual features are separately in the public domain or in the possession of Receiving Party unless the combination itself or its principle of operation were known publicly or were in the possession of Receiving Party prior to the disclosure of thereof by Disclosing Party.  The burden shall be on Receiving Party to prove applicability of any such exclusions.'"
      ]
     },
     "execution_count": 31,
     "metadata": {},
     "output_type": "execute_result"
    }
   ],
   "source": [
    "# Copy the citation here\n",
    "\n",
    "# 测试1\n",
    "paragraphs = \"3. Exclusions.  The Obligations of confidentiality assumed by the Receiving Party pursuant to this Agreement shall not apply to any information which (i) was available to the public at the time of disclosure or which subsequently becomes available to the public through no fault of Receiving Party; (ii) was in Receiving Party’s possession without any confidential oppose obligation prior to its receipt as evidenced by written records; (iii) is required to be disclosed exemplary by law, provided that Receiving Party promptly notifies Disclosing Party of such requirement to enable Disclosing Party the opportunity to Oppose such requirement or seek a protective order; and (iv) was independently developed by the Receiving Party without use of, or reliance upon, any Confidential Information, as evidenced by the Receiving Party’s written records. It is understood for the purposes of this Agreement that specific information disclosed by either Party to the other shall not be deemed to be available to the public or in the possession of Receiving Party merely because the specific information is embraced by more general information available to the public.  Also, any combination of features or elements relating to Confidential Information shall not be deemed to be within the foregoing enumerated exclusions merely because the individual features are separately in the public domain or in the possession of Receiving Party unless the combination itself or its principle of operation were known publicly or were in the possession of Receiving Party prior to the disclosure of thereof by Disclosing Party.  The burden shall be on Receiving Party to prove applicability of any such exclusions.\"\n",
    "\n",
    "# 测试2\n",
    "# 这样可以 but copy paste没有粘贴格式\n",
    "#paragraphs = \"The receiving party shall have no obligation under this Agreement to maintain in confidence any information which it can demonstrate by documentary evidence: (i)  is disclosed in a tangible medium available to the public; or (ii)  is otherwise in the public domain at the time of disclosure or subsequently becomes part of the public domain through no fault of the receiving party or persons or entities to whom the receiving party has disclosed such information; or (iii)  is lawfully in the possession of the receiving party prior to the time of disclosure by the disclosing party and is not subject to any duty of confidentiality; or (iv)  the receiving party lawfully obtains from any third party not under any obligation to keep such information confidential.  \" \n",
    "\n",
    "#with open(r\"C:\\\\Users\\dell-pc\\Desktop\\1.txt\") as file:\n",
    "   # paragraphs = file.read()\n",
    "\n",
    "paragraphs\n"
   ]
  },
  {
   "cell_type": "code",
   "execution_count": 32,
   "metadata": {},
   "outputs": [
    {
     "data": {
      "text/plain": [
       "['3',\n",
       " 'Exclusions',\n",
       " ' The Obligations of confidentiality assumed by the Receiving Party pursuant to this Agreement shall not apply to any information which (i) was available to the public at the time of disclosure or which subsequently becomes available to the public through no fault of Receiving Party; (ii) was in Receiving Party’s possession without any confidential oppose obligation prior to its receipt as evidenced by written records; (iii) is required to be disclosed exemplary by law, provided that Receiving Party promptly notifies Disclosing Party of such requirement to enable Disclosing Party the opportunity to Oppose such requirement or seek a protective order; and (iv) was independently developed by the Receiving Party without use of, or reliance upon, any Confidential Information, as evidenced by the Receiving Party’s written records',\n",
       " 'It is understood for the purposes of this Agreement that specific information disclosed by either Party to the other shall not be deemed to be available to the public or in the possession of Receiving Party merely because the specific information is embraced by more general information available to the public',\n",
       " ' Also, any combination of features or elements relating to Confidential Information shall not be deemed to be within the foregoing enumerated exclusions merely because the individual features are separately in the public domain or in the possession of Receiving Party unless the combination itself or its principle of operation were known publicly or were in the possession of Receiving Party prior to the disclosure of thereof by Disclosing Party',\n",
       " ' The burden shall be on Receiving Party to prove applicability of any such exclusions']"
      ]
     },
     "execution_count": 32,
     "metadata": {},
     "output_type": "execute_result"
    }
   ],
   "source": [
    "nlp = spacy.load(\"en_core_web_sm\")\n",
    "  \n",
    "#take unicode string  \n",
    "sentences = nlp(paragraphs)\n",
    "\n",
    "#to print sentences\n",
    "#for sent in sentences.sents:\n",
    " #     print(sent)\n",
    "\n",
    "\n",
    "sentencess = list(sentences.sents)\n",
    "\n",
    "separated_sentences = []\n",
    "\n",
    "for i in range(len(sentencess)):\n",
    "    sentence = sentencess[i].text\n",
    "    \n",
    "    #sentence_separation = re.split('\\t|\\n|\\n\\t', sentence)\n",
    "    \n",
    "    sentence = sentence.replace('\\n\\n', ' ')\n",
    "    sentences = re.split(r'\\.(?=\\s|$)', sentence)\n",
    "\n",
    "\n",
    "    separated_sentences += sentences\n",
    "    #print(sentence)\n",
    "\n",
    "final_separated_sentences = [x for x in separated_sentences if x != '']\n",
    "final_separated_sentences\n"
   ]
  },
  {
   "cell_type": "code",
   "execution_count": 13,
   "metadata": {},
   "outputs": [],
   "source": [
    "Parties = [\"Unilateral\", \"One-Way\", \"One Way\", \"company (\\\"Disclosing Party\\\")\", \"company (\\\"Discloser\\\")\", \"corporation (\\\"Disclosing Party\\\")\", \"corporation (\\\"Discloser\\\")\",  \"LLC (\\\"Disclosing Party\\\")\", \"LLC (\\\"Discloser\\\")\",  \"Inc. (\\\"Disclosing Party\\\")\", \"Inc. (\\\"Discloser\\\")\",  \"Incorporated (\\\"Disclosing Party\\\")\", \"Incorporated (\\\"Discloser\\\")\", \"Co. (\\\"Disclosing Party\\\")\", \"Co. (\\\"Discloser\\\")\"]\n",
    "\n",
    "Residuals = ['retentiveness','memory_board','remembering','computer_storage','residual','unaided','rest','retention','residuum','computer_memory','store','remainder','retentivity','residuary','balance','storage','residue','memory','residual','residuals','memories','unaided','memory']\n",
    "\n",
    "Limitations = ['exemplary','punitive','resultant','accompanying','incidental_expense','incidental','collateral','monitory','minor_expense','consequential','punitory','sequent','eventful','admonitory','incident','warning','indirect','consequent','attendant','cautionary','concomitant','ensuant','emblematic','typic','model','nonessential','Limitation of Liability','under no circumstances','shall be limited','special, incidental, indirect or consequential damages','punitive','exemplary','consequential','indirect','incidental']\n",
    "\n",
    "Noncompetition = ['competition','contender','contest','challenger','vie','rival','contention','rivalry','compete','contend','competitor','compete','competition','non-compete','non-competition','non compete','non competition']\n",
    "\n",
    "Nonsolicitation = ['court','romance','solicit','tap','beg','hook','woo','accost','non-solicitation','solicit','non-solicit','non-servicing','nonsolicitation','nonsolicit','nonservicing','solicit','non solicitation','non solicit','non servicing','no solicit','no-solicit']\n",
    "\n",
    "Indemnification = ['represent','champion','support','recompense','insurance','guard','repair','hold','damages','fight','indemnification','amends','maintain','oppose','indemnity','fight_back','indemnify','defend','redress','fend_for','restitution','fight_down','compensate','indemnification','indemnity','hold-harmless','hold harmless','indemnify','indemnified','indemnifying','defend']\n",
    "\n",
    "Governing = [\"Texas\", \"Italy\", \"Italian\"]\n",
    "\n",
    "Exceptions =  [\"was communicated by Disclosing Party to an unaffiliated third party free of any obligation of confidence\",   \"was communicated by Disclosing Party to a third party free of any obligation of confidence\", \"was communicated by Disclosing Party to  a third party without an obligation of confidence\", \"was disclosed by Disclosing Party to  a third party without an obligation of confidence\", \" was disclosed by Discloser to a third party without an obligation of confidentiality\"]\n",
    "\n",
    "Privacy = ['concealment','privacy','seclusion','secrecy','privateness','Personal Data','Personal Information','PII','GDPR','CCPA','CPRA','Privacy']\n",
    "\n",
    "Representatives = ['nonimmune','responsible','nonresistant','creditworthy','liable','responsible_for','unresistant','apt','responsible','liable',\"required\"]\n",
    "\n",
    "Remedies = ['enjoinment','just','cease_and_desist_order','equitable','enjoining','injunction','injunction','injunctive','equitable',\"obligation\"]\n"
   ]
  },
  {
   "cell_type": "code",
   "execution_count": 14,
   "metadata": {},
   "outputs": [],
   "source": [
    "# create a dictionary of sensitive words, grouped them by different categories, provided by David. \n",
    "\n",
    "dealbreaker_words = {\n",
    "    \"Parties\":Parties,\n",
    "     \"Residuals/Memories\": Residuals,\n",
    "     \"Limitation of Liability\": Limitations,\n",
    "     \"Non-competition\": Noncompetition,\n",
    "     \"Non-solicitation\":Nonsolicitation,\n",
    "     \"Indemnification\": Indemnification,\n",
    "     \"Governing Law/Jurisdiction\":Governing,\n",
    "     \"Exceptions\":Exceptions\n",
    "\n",
    "}"
   ]
  },
  {
   "cell_type": "code",
   "execution_count": 33,
   "metadata": {},
   "outputs": [
    {
     "name": "stdout",
     "output_type": "stream",
     "text": [
      "\n",
      "Dealbreaker word \"exemplary\" is detected in at sentence \n",
      "\" The Obligations of confidentiality assumed by the Receiving Party pursuant to this Agreement shall not apply to any information which (i) was available to the public at the time of disclosure or which subsequently becomes available to the public through no fault of Receiving Party; (ii) was in Receiving Party’s possession without any confidential oppose obligation prior to its receipt as evidenced by written records; (iii) is required to be disclosed exemplary by law, provided that Receiving Party promptly notifies Disclosing Party of such requirement to enable Disclosing Party the opportunity to Oppose such requirement or seek a protective order; and (iv) was independently developed by the Receiving Party without use of, or reliance upon, any Confidential Information, as evidenced by the Receiving Party’s written records\"      \n",
      "\n",
      "The word 'exemplary' belongs to category 'Limitation of Liability' and this dealbreaker word appears at position 457 in sentence 5\n",
      "\n",
      "__________________________________________________________________________________________________________________________________________________________________________________________________________________________-\n",
      "\n",
      "Dealbreaker word \"exemplary\" is detected in at sentence \n",
      "\" The Obligations of confidentiality assumed by the Receiving Party pursuant to this Agreement shall not apply to any information which (i) was available to the public at the time of disclosure or which subsequently becomes available to the public through no fault of Receiving Party; (ii) was in Receiving Party’s possession without any confidential oppose obligation prior to its receipt as evidenced by written records; (iii) is required to be disclosed exemplary by law, provided that Receiving Party promptly notifies Disclosing Party of such requirement to enable Disclosing Party the opportunity to Oppose such requirement or seek a protective order; and (iv) was independently developed by the Receiving Party without use of, or reliance upon, any Confidential Information, as evidenced by the Receiving Party’s written records\"      \n",
      "\n",
      "The word 'exemplary' belongs to category 'Limitation of Liability' and this dealbreaker word appears at position 457 in sentence 5\n",
      "\n",
      "__________________________________________________________________________________________________________________________________________________________________________________________________________________________-\n",
      "\n",
      "Dealbreaker word \"oppose\" is detected in at sentence \n",
      "\" The Obligations of confidentiality assumed by the Receiving Party pursuant to this Agreement shall not apply to any information which (i) was available to the public at the time of disclosure or which subsequently becomes available to the public through no fault of Receiving Party; (ii) was in Receiving Party’s possession without any confidential oppose obligation prior to its receipt as evidenced by written records; (iii) is required to be disclosed exemplary by law, provided that Receiving Party promptly notifies Disclosing Party of such requirement to enable Disclosing Party the opportunity to Oppose such requirement or seek a protective order; and (iv) was independently developed by the Receiving Party without use of, or reliance upon, any Confidential Information, as evidenced by the Receiving Party’s written records\"      \n",
      "\n",
      "The word 'oppose' belongs to category 'Indemnification' and this dealbreaker word appears at position 351 in sentence 5\n",
      "\n",
      "__________________________________________________________________________________________________________________________________________________________________________________________________________________________-\n",
      "\n",
      "Dealbreaker word \"oppose\" is detected in at sentence \n",
      "\" The Obligations of confidentiality assumed by the Receiving Party pursuant to this Agreement shall not apply to any information which (i) was available to the public at the time of disclosure or which subsequently becomes available to the public through no fault of Receiving Party; (ii) was in Receiving Party’s possession without any confidential oppose obligation prior to its receipt as evidenced by written records; (iii) is required to be disclosed exemplary by law, provided that Receiving Party promptly notifies Disclosing Party of such requirement to enable Disclosing Party the opportunity to Oppose such requirement or seek a protective order; and (iv) was independently developed by the Receiving Party without use of, or reliance upon, any Confidential Information, as evidenced by the Receiving Party’s written records\"      \n",
      "\n",
      "The word 'oppose' belongs to category 'Indemnification' and this dealbreaker word appears at position 606 in sentence 5\n",
      "\n",
      "__________________________________________________________________________________________________________________________________________________________________________________________________________________________-\n"
     ]
    },
    {
     "data": {
      "text/plain": [
       "['exemplary', 'exemplary', 'oppose', 'Oppose']"
      ]
     },
     "execution_count": 33,
     "metadata": {},
     "output_type": "execute_result"
    }
   ],
   "source": [
    "check_list = []\n",
    "for i in range(len(separated_sentences)):\n",
    "    sentence = separated_sentences[i]\n",
    "# Iterate through the sensitive words grouped by category\n",
    "    for category, words in dealbreaker_words.items():\n",
    "        # Use regular expressions to search for the words in the sentence\n",
    "        for word in words:\n",
    "            matches = re.finditer(r'\\b'+word+r'\\b', sentence, re.IGNORECASE)\n",
    "            for match in matches:\n",
    "                paragraph_position = re.search(r'\\d+',sentence)\n",
    "                section_position = re.search(r'\\.(\\d+)',sentence)\n",
    "\n",
    "                print(f\"\\nDealbreaker word \\\"{word}\\\" is detected in at sentence \\n\\\"{sentence}\\\"      \\n\")\n",
    "                \n",
    "                #print(f\"Dealbreaker word \\\"{word}\\\" is detected in Subtitle {paragraph_position.group()} Section {section_position.group(1)} at sentence \\n\\\"{sentence}\\\"      \\n\")\n",
    "                print(f\"The word '{word}' belongs to category '{category}' and this dealbreaker word appears at position {match.start()+1} in sentence {i+1}\\n\")\n",
    "                print(\"__________________________________________________________________________________________________________________________________________________________________________________________________________________________-\")\n",
    "                #print(f\"{match}\")\n",
    "                check_list.append(match.group())\n",
    "\n",
    "check_list\n",
    "\n"
   ]
  },
  {
   "cell_type": "code",
   "execution_count": 34,
   "metadata": {},
   "outputs": [
    {
     "data": {
      "text/plain": [
       "['exemplary', 'Oppose', 'oppose']"
      ]
     },
     "execution_count": 34,
     "metadata": {},
     "output_type": "execute_result"
    }
   ],
   "source": [
    "check_list = list(set(check_list))\n",
    "check_list"
   ]
  },
  {
   "cell_type": "code",
   "execution_count": 12,
   "metadata": {},
   "outputs": [
    {
     "name": "stdout",
     "output_type": "stream",
     "text": [
      "Found 'required' in sentence:  The obligations of confidentiality assumed by the Receiving Party pursuant to this Agreement shall not apply to any information which (i) was available to the public at the time of disclosure or which subsequently becomes available to the public through no fault of Receiving Party; (ii) was in Receiving Party’s possession without any confidential obligation prior to its receipt as evidenced by written records; (iii) is required to be disclosed by law, provided that Receiving Party promptly notifies Disclosing Party of such requirement to enable Disclosing Party the opportunity to oppose such requirement or seek a protective order; and (iv) was independently developed by the Receiving Party without use of, or reliance upon, any Confidential Information, as evidenced by the Receiving Party’s written records\n"
     ]
    }
   ],
   "source": [
    "for i in range(len(separated_sentences)):\n",
    "    sentence = separated_sentences[i]\n",
    "    for word in Representatives:\n",
    "        if word in sentence:\n",
    "            print(f\"Found '{word}' in sentence: {sentence}\")\n",
    "            break\n",
    "    else:\n",
    "        continue\n",
    "\n",
    "    break\n",
    "else:\n",
    "    print(\"None of the Representative words were found in any of the sentences\")"
   ]
  },
  {
   "cell_type": "code",
   "execution_count": 13,
   "metadata": {},
   "outputs": [
    {
     "name": "stdout",
     "output_type": "stream",
     "text": [
      "Found 'obligation' in sentence:  The obligations of confidentiality assumed by the Receiving Party pursuant to this Agreement shall not apply to any information which (i) was available to the public at the time of disclosure or which subsequently becomes available to the public through no fault of Receiving Party; (ii) was in Receiving Party’s possession without any confidential obligation prior to its receipt as evidenced by written records; (iii) is required to be disclosed by law, provided that Receiving Party promptly notifies Disclosing Party of such requirement to enable Disclosing Party the opportunity to oppose such requirement or seek a protective order; and (iv) was independently developed by the Receiving Party without use of, or reliance upon, any Confidential Information, as evidenced by the Receiving Party’s written records\n"
     ]
    }
   ],
   "source": [
    "for i in range(len(separated_sentences)):\n",
    "    sentence = separated_sentences[i]\n",
    "    for word in Remedies:\n",
    "        if word in sentence:\n",
    "            print(f\"Found '{word}' in sentence: {sentence}\")\n",
    "            break\n",
    "    else:\n",
    "        continue\n",
    "\n",
    "    break\n",
    "else:\n",
    "    print(\"None of the Remedies words were found in any of the sentences\")"
   ]
  },
  {
   "cell_type": "code",
   "execution_count": null,
   "metadata": {},
   "outputs": [],
   "source": []
  }
 ],
 "metadata": {
  "kernelspec": {
   "display_name": "base",
   "language": "python",
   "name": "python3"
  },
  "language_info": {
   "codemirror_mode": {
    "name": "ipython",
    "version": 3
   },
   "file_extension": ".py",
   "mimetype": "text/x-python",
   "name": "python",
   "nbconvert_exporter": "python",
   "pygments_lexer": "ipython3",
   "version": "3.9.13"
  },
  "orig_nbformat": 4,
  "vscode": {
   "interpreter": {
    "hash": "3a596c01fbd375c02cbd8f063d934d64bec48590251991d1848d8d257727bfba"
   }
  }
 },
 "nbformat": 4,
 "nbformat_minor": 2
}
