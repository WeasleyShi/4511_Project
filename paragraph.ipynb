{
 "cells": [
  {
   "cell_type": "code",
   "execution_count": 25,
   "metadata": {},
   "outputs": [
    {
     "name": "stdout",
     "output_type": "stream",
     "text": [
      "Collecting https://github.com/explosion/spacy-models/releases/download/en_core_web_sm-3.5.0/en_core_web_sm-3.5.0.tar.gz\n",
      "  Downloading https://github.com/explosion/spacy-models/releases/download/en_core_web_sm-3.5.0/en_core_web_sm-3.5.0.tar.gz (12.8 MB)\n",
      "\u001b[2K     \u001b[90m━━━━━━━━━━━━━━━━━━━━━━━━━━━━━━━━━━━━━━━━\u001b[0m \u001b[32m12.8/12.8 MB\u001b[0m \u001b[31m45.9 MB/s\u001b[0m eta \u001b[36m0:00:00\u001b[0m00:01\u001b[0m00:01\u001b[0m\n",
      "\u001b[?25h  Preparing metadata (setup.py) ... \u001b[?25ldone\n",
      "\u001b[?25hRequirement already satisfied: spacy<3.6.0,>=3.5.0 in /Users/wesley/opt/anaconda3/lib/python3.9/site-packages (from en-core-web-sm==3.5.0) (3.5.1)\n",
      "Requirement already satisfied: jinja2 in /Users/wesley/opt/anaconda3/lib/python3.9/site-packages (from spacy<3.6.0,>=3.5.0->en-core-web-sm==3.5.0) (2.11.3)\n",
      "Requirement already satisfied: srsly<3.0.0,>=2.4.3 in /Users/wesley/opt/anaconda3/lib/python3.9/site-packages (from spacy<3.6.0,>=3.5.0->en-core-web-sm==3.5.0) (2.4.6)\n",
      "Requirement already satisfied: packaging>=20.0 in /Users/wesley/opt/anaconda3/lib/python3.9/site-packages (from spacy<3.6.0,>=3.5.0->en-core-web-sm==3.5.0) (21.3)\n",
      "Requirement already satisfied: numpy>=1.15.0 in /Users/wesley/opt/anaconda3/lib/python3.9/site-packages (from spacy<3.6.0,>=3.5.0->en-core-web-sm==3.5.0) (1.24.2)\n",
      "Requirement already satisfied: typer<0.8.0,>=0.3.0 in /Users/wesley/opt/anaconda3/lib/python3.9/site-packages (from spacy<3.6.0,>=3.5.0->en-core-web-sm==3.5.0) (0.7.0)\n",
      "Requirement already satisfied: pathy>=0.10.0 in /Users/wesley/opt/anaconda3/lib/python3.9/site-packages (from spacy<3.6.0,>=3.5.0->en-core-web-sm==3.5.0) (0.10.1)\n",
      "Requirement already satisfied: langcodes<4.0.0,>=3.2.0 in /Users/wesley/opt/anaconda3/lib/python3.9/site-packages (from spacy<3.6.0,>=3.5.0->en-core-web-sm==3.5.0) (3.3.0)\n",
      "Requirement already satisfied: spacy-loggers<2.0.0,>=1.0.0 in /Users/wesley/opt/anaconda3/lib/python3.9/site-packages (from spacy<3.6.0,>=3.5.0->en-core-web-sm==3.5.0) (1.0.4)\n",
      "Requirement already satisfied: tqdm<5.0.0,>=4.38.0 in /Users/wesley/opt/anaconda3/lib/python3.9/site-packages (from spacy<3.6.0,>=3.5.0->en-core-web-sm==3.5.0) (4.64.1)\n",
      "Requirement already satisfied: pydantic!=1.8,!=1.8.1,<1.11.0,>=1.7.4 in /Users/wesley/opt/anaconda3/lib/python3.9/site-packages (from spacy<3.6.0,>=3.5.0->en-core-web-sm==3.5.0) (1.10.7)\n",
      "Requirement already satisfied: murmurhash<1.1.0,>=0.28.0 in /Users/wesley/opt/anaconda3/lib/python3.9/site-packages (from spacy<3.6.0,>=3.5.0->en-core-web-sm==3.5.0) (1.0.9)\n",
      "Requirement already satisfied: requests<3.0.0,>=2.13.0 in /Users/wesley/opt/anaconda3/lib/python3.9/site-packages (from spacy<3.6.0,>=3.5.0->en-core-web-sm==3.5.0) (2.28.1)\n",
      "Requirement already satisfied: smart-open<7.0.0,>=5.2.1 in /Users/wesley/opt/anaconda3/lib/python3.9/site-packages (from spacy<3.6.0,>=3.5.0->en-core-web-sm==3.5.0) (5.2.1)\n",
      "Requirement already satisfied: cymem<2.1.0,>=2.0.2 in /Users/wesley/opt/anaconda3/lib/python3.9/site-packages (from spacy<3.6.0,>=3.5.0->en-core-web-sm==3.5.0) (2.0.7)\n",
      "Requirement already satisfied: preshed<3.1.0,>=3.0.2 in /Users/wesley/opt/anaconda3/lib/python3.9/site-packages (from spacy<3.6.0,>=3.5.0->en-core-web-sm==3.5.0) (3.0.8)\n",
      "Requirement already satisfied: wasabi<1.2.0,>=0.9.1 in /Users/wesley/opt/anaconda3/lib/python3.9/site-packages (from spacy<3.6.0,>=3.5.0->en-core-web-sm==3.5.0) (1.1.1)\n",
      "Requirement already satisfied: spacy-legacy<3.1.0,>=3.0.11 in /Users/wesley/opt/anaconda3/lib/python3.9/site-packages (from spacy<3.6.0,>=3.5.0->en-core-web-sm==3.5.0) (3.0.12)\n",
      "Requirement already satisfied: catalogue<2.1.0,>=2.0.6 in /Users/wesley/opt/anaconda3/lib/python3.9/site-packages (from spacy<3.6.0,>=3.5.0->en-core-web-sm==3.5.0) (2.0.8)\n",
      "Requirement already satisfied: thinc<8.2.0,>=8.1.8 in /Users/wesley/opt/anaconda3/lib/python3.9/site-packages (from spacy<3.6.0,>=3.5.0->en-core-web-sm==3.5.0) (8.1.9)\n",
      "Requirement already satisfied: setuptools in /Users/wesley/opt/anaconda3/lib/python3.9/site-packages (from spacy<3.6.0,>=3.5.0->en-core-web-sm==3.5.0) (63.4.1)\n",
      "Requirement already satisfied: pyparsing!=3.0.5,>=2.0.2 in /Users/wesley/opt/anaconda3/lib/python3.9/site-packages (from packaging>=20.0->spacy<3.6.0,>=3.5.0->en-core-web-sm==3.5.0) (3.0.9)\n",
      "Requirement already satisfied: typing-extensions>=4.2.0 in /Users/wesley/opt/anaconda3/lib/python3.9/site-packages (from pydantic!=1.8,!=1.8.1,<1.11.0,>=1.7.4->spacy<3.6.0,>=3.5.0->en-core-web-sm==3.5.0) (4.3.0)\n",
      "Requirement already satisfied: charset-normalizer<3,>=2 in /Users/wesley/opt/anaconda3/lib/python3.9/site-packages (from requests<3.0.0,>=2.13.0->spacy<3.6.0,>=3.5.0->en-core-web-sm==3.5.0) (2.0.4)\n",
      "Requirement already satisfied: certifi>=2017.4.17 in /Users/wesley/opt/anaconda3/lib/python3.9/site-packages (from requests<3.0.0,>=2.13.0->spacy<3.6.0,>=3.5.0->en-core-web-sm==3.5.0) (2022.9.24)\n",
      "Requirement already satisfied: idna<4,>=2.5 in /Users/wesley/opt/anaconda3/lib/python3.9/site-packages (from requests<3.0.0,>=2.13.0->spacy<3.6.0,>=3.5.0->en-core-web-sm==3.5.0) (3.3)\n",
      "Requirement already satisfied: urllib3<1.27,>=1.21.1 in /Users/wesley/opt/anaconda3/lib/python3.9/site-packages (from requests<3.0.0,>=2.13.0->spacy<3.6.0,>=3.5.0->en-core-web-sm==3.5.0) (1.26.11)\n",
      "Requirement already satisfied: confection<1.0.0,>=0.0.1 in /Users/wesley/opt/anaconda3/lib/python3.9/site-packages (from thinc<8.2.0,>=8.1.8->spacy<3.6.0,>=3.5.0->en-core-web-sm==3.5.0) (0.0.4)\n",
      "Requirement already satisfied: blis<0.8.0,>=0.7.8 in /Users/wesley/opt/anaconda3/lib/python3.9/site-packages (from thinc<8.2.0,>=8.1.8->spacy<3.6.0,>=3.5.0->en-core-web-sm==3.5.0) (0.7.9)\n",
      "Requirement already satisfied: click<9.0.0,>=7.1.1 in /Users/wesley/opt/anaconda3/lib/python3.9/site-packages (from typer<0.8.0,>=0.3.0->spacy<3.6.0,>=3.5.0->en-core-web-sm==3.5.0) (8.0.4)\n",
      "Requirement already satisfied: MarkupSafe>=0.23 in /Users/wesley/opt/anaconda3/lib/python3.9/site-packages (from jinja2->spacy<3.6.0,>=3.5.0->en-core-web-sm==3.5.0) (2.0.1)\n"
     ]
    }
   ],
   "source": [
    "import docx2txt\n",
    "import spacy\n",
    "import re\n",
    "import nltk\n",
    "#en_core_web_sm: this package must be the newest version, currently 3.5.0   (by 2023.04.02)\n",
    "!pip3 install https://github.com/explosion/spacy-models/releases/download/en_core_web_sm-3.5.0/en_core_web_sm-3.5.0.tar.gz --quiet\n",
    "import en_core_web_sm\n",
    "\n",
    "\n"
   ]
  },
  {
   "cell_type": "code",
   "execution_count": 43,
   "metadata": {},
   "outputs": [],
   "source": [
    "#open text file in read mode\n",
    "text_file = open(\"/Users/wesley/Desktop/BRE.txt\", \"r\")\n",
    " \n",
    "#read whole file to a string\n",
    "data = text_file.read()\n",
    " \n",
    "#close file\n",
    "text_file.close()"
   ]
  },
  {
   "cell_type": "code",
   "execution_count": 44,
   "metadata": {},
   "outputs": [
    {
     "data": {
      "text/plain": [
       "['Mutual Nondisclosure AgreementThis Mutual Nondisclosure Agreement (\"Agreement\") is made between Brex Inc',\n",
       " ' (\"Brex\") and ThoughtSpot Inc',\n",
       " ' (\"Company\")',\n",
       " 'The parties may disclose confidential information as part of a potential business relationship or transaction of mutual interest (\"Transaction\") and agree to protect and maintain secrecy of the information disclosed in confidence for the Transaction',\n",
       " 'The parties agree as follows:1',\n",
       " 'Definitions',\n",
       " 'In this Agreement: \"Affiliate\" means an entity that is directly or indirectly controls, is controlled by, or is under common control as a party, which shall include the power to direct or cause the direction of the management and policies of a person or an organization, whether by ownership of stock, voting rights, by contract, or otherwise; and \"Confidential Information\" is information disclosed by a party or its Affiliates or agents (collectively, the \"Disclosing Party\") to the other party or its Affiliates or agents (collectively, the \"Receiving Party\") that (a) the Disclosing Party identifies as confidential or proprietary, or (b) reasonably appears to be confidential or proprietary because of legends or other markings, the circumstances of disclosure, or the nature of the information itself, whether or not such information is related to Transaction',\n",
       " 'Without limiting the foregoing, Confidential Information includes the Disclosing Party’s technology, data, customer information, and business plans; and the details and nature of the Transaction',\n",
       " '2',\n",
       " 'Nondisclosure',\n",
       " 'Except as expressly permitted in this Agreement, the Receiving Party agrees to hold Confidential Information in strict confidence, only use Confidential Information for the purposes of the Transaction, and not disclose such Confidential Information to any third party except as expressly permitted by this Agreement',\n",
       " 'The Receiving Party may disclose Confidential Information to its employees or contractors (collectively, the \"Representatives\") with a bona fide need to know but only to the extent necessary under the Transaction provided that each such employee or contractor is bound by confidentiality obligations at least as protective as this Agreement',\n",
       " 'The Receiving Party will protect Confidential Information with at least the same degree of care that it uses to protect its own confidential or sensitive information but not less than reasonable care',\n",
       " 'The Receiving Party shall be responsible for any breach of this Agreement by its Representatives',\n",
       " 'The Receiving Party will immediately notify the Disclosing Party upon discovery of any loss or unauthorized disclosure of the Confidential Information of the Disclosing Party',\n",
       " '3',\n",
       " 'Exclusions and Exceptions',\n",
       " 'Confidential Information does not include information that is or becomes generally known or available to the public through no act or failure to act on the part of the Receiving Party, was or is legally obtained or learned by the Receiving Party, was legally furnished by a third________________party without restriction of use, or is independently developed by the Receiving Party without use of or reference to Confidential Information',\n",
       " 'The Receiving Party may disclose Confidential Information to the extent that disclosure is required by law or court order provided that the Receiving Party uses reasonable efforts to give the Disclosing Party prior notice if such prior notice is permitted by law',\n",
       " '4',\n",
       " ' Return or Destruction',\n",
       " 'Upon the Disclosing Party’s request and option, the Receiving Party will promptly return or certify the destruction or deletion of Confidential Information and copies made',\n",
       " 'Notwithstanding the foregoing, the Receiving Party may keep a copy of Confidential Information: (i) as strictly required by applicable laws, regulations, or internal compliance or recordkeeping policies; and/or (ii) that is kept in archival backup files; provided, however, that any such retained Confidential Information shall remain subject to the terms of this Agreement',\n",
       " '5',\n",
       " 'No License or Warranty',\n",
       " 'Confidential Information is and shall remain owned by the Disclosing Party or its licensors',\n",
       " 'This Agreement does not grant any express or implied right to the Receiving Party, by license or otherwise, to Confidential Information',\n",
       " 'Confidential information is provided without any warranties',\n",
       " '6',\n",
       " 'Injunctive Relief',\n",
       " 'The parties acknowledge that unauthorized disclosure or use of Confidential Information may cause irreparable harm to the Disclosing Party that may be difficult to ascertain and for which money damages would be insufficient',\n",
       " 'Accordingly, the Disclosing Party has the right to seek an immediate injunction to mitigate or prevent harm caused by a breach of this Agreement, in addition to the right to pursue other remedies available at law or in equity for such a breach',\n",
       " '7',\n",
       " 'Governing Law',\n",
       " 'This Agreement is interpreted and governed by the laws of the State of Utah without giving effect to its conflict of law principles',\n",
       " 'Any legal action or proceeding arising out of or relating to this Agreement may be instituted in the courts of the State of Utah sitting in Salt Lake County, Utah, and the parties hereto irrevocably submit to the jurisdiction of each such court in any action or proceeding',\n",
       " '8',\n",
       " 'Severability',\n",
       " 'Any provision of this Agreement that is found to be unenforceable will be severed and the remaining terms will be enforced without invalidating the remainder of either the affected provision or this Agreement',\n",
       " '9',\n",
       " 'Complete Agreement',\n",
       " 'This Agreement is the complete and exclusive statement regarding handling and protection of________________ConfidentialInformationandsupersedesallprior understandings and communications, whether oral or written',\n",
       " '10',\n",
       " 'Term',\n",
       " 'This Agreement will remain in effect for one (1) year from the Effective Date, at which time it will terminate; provided, however, that the Receiving Party’s confidentiality obligations as provided hereunder will survive termination for an additional two (2) years',\n",
       " 'This Agreement is accepted and agreed as of August 3, 2022',\n",
       " '\\t',\n",
       " 'Company\\t\\tBrex Inc',\n",
       " '\\t',\n",
       " 'By:\\t\\tBy:\\t\\tName:\\t\\tName:\\t\\t',\n",
       " 'Title:\\t\\tTitle:\\t\\tEmail:\\t\\tEmail:\\t\\tCompany Address:\\t\\t',\n",
       " 'Brex Address:\\t50 W Broadway, Ste 333, #15548 Salt Lake City, UT 84101']"
      ]
     },
     "execution_count": 44,
     "metadata": {},
     "output_type": "execute_result"
    }
   ],
   "source": [
    "#def a function which can split the doc into sentences\n",
    "def sentence_split(data):\n",
    "    # nlp = spacy.load(\"en_core_web_sm\")\n",
    "    nlp = en_core_web_sm.load()\n",
    "    \n",
    "    #take unicode string  \n",
    "    sentences = nlp(data)\n",
    "\n",
    "\n",
    "    sentencess = list(sentences.sents)\n",
    "\n",
    "    separated_sentences = []\n",
    "\n",
    "    for i in range(len(sentencess)):\n",
    "        sentence = sentencess[i].text\n",
    "        \n",
    "        #sentence_separation = re.split('\\t|\\n|\\n\\t', sentence)\n",
    "        \n",
    "        sentence = sentence.replace('\\n', '')\n",
    "        sentence = sentence.replace('\\ufeff', '')\n",
    "\n",
    "        sentence = sentence.replace('  ', '')\n",
    "        sentence = sentence.replace('   ', '') #there are always multiple spaces, change them to single space universally\n",
    "\n",
    "        sentences = re.split(r'\\.(?=\\s|$)', sentence)\n",
    "\n",
    "\n",
    "        separated_sentences += sentences\n",
    "\n",
    "\n",
    "    final_separated_sentences = [x for x in separated_sentences if x != '']\n",
    "    return final_separated_sentences\n",
    "\n",
    "\n",
    "splitted = sentence_split(data)\n",
    "splitted"
   ]
  },
  {
   "cell_type": "code",
   "execution_count": 45,
   "metadata": {},
   "outputs": [
    {
     "data": {
      "text/plain": [
       "['Mutual Nondisclosure AgreementThis Mutual Nondisclosure Agreement (\"Agreement\") is made between Brex Inc',\n",
       " ' (\"Company\")The parties may disclose confidential information as part of a potential business relationship or transaction of mutual interest (\"Transaction\") and agree to protect and maintain secrecy of the information disclosed in confidence for the TransactionThe parties agree as follows:1',\n",
       " 'DefinitionsIn this Agreement: \"Affiliate\" means an entity that is directly or indirectly controls, is controlled by, or is under common control as a party, which shall include the power to direct or cause the direction of the management and policies of a person or an organization, whether by ownership of stock, voting rights, by contract, or otherwise; and \"Confidential Information\" is information disclosed by a party or its Affiliates or agents (collectively, the \"Disclosing Party\") to the other party or its Affiliates or agents (collectively, the \"Receiving Party\") that (a) the Disclosing Party identifies as confidential or proprietary, or (b) reasonably appears to be confidential or proprietary because of legends or other markings, the circumstances of disclosure, or the nature of the information itself, whether or not such information is related to TransactionWithout limiting the foregoing, Confidential Information includes the Disclosing Party’s technology, data, customer information, and business plans; and the details and nature of the Transaction',\n",
       " 'NondisclosureExcept as expressly permitted in this Agreement, the Receiving Party agrees to hold Confidential Information in strict confidence, only use Confidential Information for the purposes of the Transaction, and not disclose such Confidential Information to any third party except as expressly permitted by this AgreementThe Receiving Party may disclose Confidential Information to its employees or contractors (collectively, the \"Representatives\") with a bona fide need to know but only to the extent necessary under the Transaction provided that each such employee or contractor is bound by confidentiality obligations at least as protective as this AgreementThe Receiving Party will protect Confidential Information with at least the same degree of care that it uses to protect its own confidential or sensitive information but not less than reasonable careThe Receiving Party shall be responsible for any breach of this Agreement by its RepresentativesThe Receiving Party will immediately notify the Disclosing Party upon discovery of any loss or unauthorized disclosure of the Confidential Information of the Disclosing Party',\n",
       " 'Exclusions and ExceptionsConfidential Information does not include information that is or becomes generally known or available to the public through no act or failure to act on the part of the Receiving Party, was or is legally obtained or learned by the Receiving Party, was legally furnished by a third________________party without restriction of use, or is independently developed by the Receiving Party without use of or reference to Confidential InformationThe Receiving Party may disclose Confidential Information to the extent that disclosure is required by law or court order provided that the Receiving Party uses reasonable efforts to give the Disclosing Party prior notice if such prior notice is permitted by law',\n",
       " ' Return or DestructionUpon the Disclosing Party’s request and option, the Receiving Party will promptly return or certify the destruction or deletion of Confidential Information and copies madeNotwithstanding the foregoing, the Receiving Party may keep a copy of Confidential Information: (i) as strictly required by applicable laws, regulations, or internal compliance or recordkeeping policies; and/or (ii) that is kept in archival backup files; provided, however, that any such retained Confidential Information shall remain subject to the terms of this Agreement',\n",
       " 'No License or WarrantyConfidential Information is and shall remain owned by the Disclosing Party or its licensorsThis Agreement does not grant any express or implied right to the Receiving Party, by license or otherwise, to Confidential InformationConfidential information is provided without any warranties',\n",
       " 'Injunctive ReliefThe parties acknowledge that unauthorized disclosure or use of Confidential Information may cause irreparable harm to the Disclosing Party that may be difficult to ascertain and for which money damages would be insufficientAccordingly, the Disclosing Party has the right to seek an immediate injunction to mitigate or prevent harm caused by a breach of this Agreement, in addition to the right to pursue other remedies available at law or in equity for such a breach',\n",
       " 'Governing LawThis Agreement is interpreted and governed by the laws of the State of Utah without giving effect to its conflict of law principlesAny legal action or proceeding arising out of or relating to this Agreement may be instituted in the courts of the State of Utah sitting in Salt Lake County, Utah, and the parties hereto irrevocably submit to the jurisdiction of each such court in any action or proceeding',\n",
       " 'SeverabilityAny provision of this Agreement that is found to be unenforceable will be severed and the remaining terms will be enforced without invalidating the remainder of either the affected provision or this Agreement',\n",
       " 'Complete AgreementThis Agreement is the complete and exclusive statement regarding handling and protection of________________ConfidentialInformationandsupersedesallprior understandings and communications, whether oral or written',\n",
       " 'TermThis Agreement will remain in effect for one (1) year from the Effective Date, at which time it will terminate; provided, however, that the Receiving Party’s confidentiality obligations as provided hereunder will survive termination for an additional two (2) yearsThis Agreement is accepted and agreed as of August 3, 2022']"
      ]
     },
     "execution_count": 45,
     "metadata": {},
     "output_type": "execute_result"
    }
   ],
   "source": [
    "#now define a function seperating the document into list of paragraphs\n",
    "\n",
    "def par(splitted):\n",
    "    ind = 0\n",
    "    paragraphs = []\n",
    "    splitting_index = []\n",
    "\n",
    "    #get the index of splitting\n",
    "    for i in range(len(splitted)):\n",
    "        if len(splitted[i].split()) < 5:\n",
    "            splitting_index.append(i)\n",
    "    \n",
    "    for j in range(len(splitting_index)):\n",
    "        temp_para = \"\"\n",
    "        while ind < splitting_index[j]:\n",
    "            temp_para += splitted[ind]\n",
    "            ind += 1\n",
    "        paragraphs.append(temp_para)\n",
    "\n",
    "    return [p for p in paragraphs if len(p.split()) > 5]\n",
    "\n",
    "\n",
    "\n",
    "\n",
    "\n",
    "par(splitted)"
   ]
  },
  {
   "cell_type": "code",
   "execution_count": null,
   "metadata": {},
   "outputs": [],
   "source": []
  }
 ],
 "metadata": {
  "interpreter": {
   "hash": "4b700fda2b1fe4e42d09251a5077ace29fa7b3db07261659c5bdece5f107dc5e"
  },
  "kernelspec": {
   "display_name": "Python 3.9.13 ('base')",
   "language": "python",
   "name": "python3"
  },
  "language_info": {
   "codemirror_mode": {
    "name": "ipython",
    "version": 3
   },
   "file_extension": ".py",
   "mimetype": "text/x-python",
   "name": "python",
   "nbconvert_exporter": "python",
   "pygments_lexer": "ipython3",
   "version": "3.9.13"
  },
  "orig_nbformat": 4
 },
 "nbformat": 4,
 "nbformat_minor": 2
}
