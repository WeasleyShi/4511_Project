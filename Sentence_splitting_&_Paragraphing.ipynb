{
  "nbformat": 4,
  "nbformat_minor": 0,
  "metadata": {
    "colab": {
      "provenance": []
    },
    "kernelspec": {
      "name": "python3",
      "display_name": "Python 3"
    },
    "language_info": {
      "name": "python"
    }
  },
  "cells": [
    {
      "cell_type": "code",
      "source": [
        "from google.colab import drive\n",
        "drive.mount('/content/drive')"
      ],
      "metadata": {
        "colab": {
          "base_uri": "https://localhost:8080/"
        },
        "id": "wea929ZB03NN",
        "outputId": "39879a5d-54ac-4115-dfe6-ae3713a42e5d"
      },
      "execution_count": 51,
      "outputs": [
        {
          "output_type": "stream",
          "name": "stdout",
          "text": [
            "Drive already mounted at /content/drive; to attempt to forcibly remount, call drive.mount(\"/content/drive\", force_remount=True).\n"
          ]
        }
      ]
    },
    {
      "cell_type": "code",
      "source": [
        "!pip install transformers"
      ],
      "metadata": {
        "colab": {
          "base_uri": "https://localhost:8080/"
        },
        "id": "KRm1IFCCtH5F",
        "outputId": "b2b2eff7-ffd3-4321-ebcd-7a87f7f93d33"
      },
      "execution_count": 52,
      "outputs": [
        {
          "output_type": "stream",
          "name": "stdout",
          "text": [
            "Looking in indexes: https://pypi.org/simple, https://us-python.pkg.dev/colab-wheels/public/simple/\n",
            "Requirement already satisfied: transformers in /usr/local/lib/python3.9/dist-packages (4.27.4)\n",
            "Requirement already satisfied: packaging>=20.0 in /usr/local/lib/python3.9/dist-packages (from transformers) (23.0)\n",
            "Requirement already satisfied: tokenizers!=0.11.3,<0.14,>=0.11.1 in /usr/local/lib/python3.9/dist-packages (from transformers) (0.13.3)\n",
            "Requirement already satisfied: filelock in /usr/local/lib/python3.9/dist-packages (from transformers) (3.10.7)\n",
            "Requirement already satisfied: requests in /usr/local/lib/python3.9/dist-packages (from transformers) (2.27.1)\n",
            "Requirement already satisfied: huggingface-hub<1.0,>=0.11.0 in /usr/local/lib/python3.9/dist-packages (from transformers) (0.13.4)\n",
            "Requirement already satisfied: regex!=2019.12.17 in /usr/local/lib/python3.9/dist-packages (from transformers) (2022.10.31)\n",
            "Requirement already satisfied: tqdm>=4.27 in /usr/local/lib/python3.9/dist-packages (from transformers) (4.65.0)\n",
            "Requirement already satisfied: pyyaml>=5.1 in /usr/local/lib/python3.9/dist-packages (from transformers) (6.0)\n",
            "Requirement already satisfied: numpy>=1.17 in /usr/local/lib/python3.9/dist-packages (from transformers) (1.22.4)\n",
            "Requirement already satisfied: typing-extensions>=3.7.4.3 in /usr/local/lib/python3.9/dist-packages (from huggingface-hub<1.0,>=0.11.0->transformers) (4.5.0)\n",
            "Requirement already satisfied: idna<4,>=2.5 in /usr/local/lib/python3.9/dist-packages (from requests->transformers) (3.4)\n",
            "Requirement already satisfied: urllib3<1.27,>=1.21.1 in /usr/local/lib/python3.9/dist-packages (from requests->transformers) (1.26.15)\n",
            "Requirement already satisfied: certifi>=2017.4.17 in /usr/local/lib/python3.9/dist-packages (from requests->transformers) (2022.12.7)\n",
            "Requirement already satisfied: charset-normalizer~=2.0.0 in /usr/local/lib/python3.9/dist-packages (from requests->transformers) (2.0.12)\n"
          ]
        }
      ]
    },
    {
      "cell_type": "code",
      "source": [
        "#package imports\n",
        "import re\n",
        "import matplotlib.pyplot as plt\n",
        "import numpy as np\n",
        "import pandas as pd\n",
        "import plotly.figure_factory as ff\n",
        "import seaborn as sns\n",
        "import tensorflow\n",
        "\n",
        "\n",
        "\n",
        "from nltk.corpus import stopwords\n",
        "from plotly.offline import iplot\n",
        "from sklearn.model_selection import train_test_split\n",
        "from sklearn.metrics import classification_report\n",
        "from tensorflow.keras.callbacks import EarlyStopping\n",
        "from tensorflow.keras.initializers import TruncatedNormal\n",
        "from tensorflow.keras.layers import Dense, Dropout, Input\n",
        "from tensorflow.keras.losses import CategoricalCrossentropy\n",
        "from tensorflow.keras.metrics import CategoricalAccuracy\n",
        "from tensorflow.keras.models import Model\n",
        "from tensorflow.keras.optimizers import Adam\n",
        "from tensorflow.keras.utils import to_categorical\n",
        "from transformers import BertConfig, BertTokenizerFast, TFBertModel"
      ],
      "metadata": {
        "id": "9BWGNoMGcjbf"
      },
      "execution_count": 53,
      "outputs": []
    },
    {
      "cell_type": "code",
      "source": [
        "# Recreate the exact same model, including its weights and the optimizer\n",
        "bert_model = tensorflow.keras.models.load_model('/content/drive/MyDrive/Final_pipeline/my_model.h5')\n",
        "\n",
        "# Show the model architecture\n",
        "bert_model.summary()"
      ],
      "metadata": {
        "id": "1zQk_qTdcHgO",
        "colab": {
          "base_uri": "https://localhost:8080/"
        },
        "outputId": "428b73b7-a2a5-42c6-9e04-4a8674160500"
      },
      "execution_count": 54,
      "outputs": [
        {
          "output_type": "stream",
          "name": "stdout",
          "text": [
            "Model: \"BERT_MultiLabel_MultiClass\"\n",
            "_________________________________________________________________\n",
            " Layer (type)                Output Shape              Param #   \n",
            "=================================================================\n",
            " input_ids (InputLayer)      [(None, 100)]             0         \n",
            "                                                                 \n",
            " bert (TFBertMainLayer)      TFBaseModelOutputWithPoo  109482240 \n",
            "                             lingAndCrossAttentions(l            \n",
            "                             ast_hidden_state=(None,             \n",
            "                             100, 768),                          \n",
            "                              pooler_output=(None, 76            \n",
            "                             8),                                 \n",
            "                              past_key_values=None, h            \n",
            "                             idden_states=None, atten            \n",
            "                             tions=None, cross_attent            \n",
            "                             ions=None)                          \n",
            "                                                                 \n",
            " pooled_output (Dropout)     (None, 768)               0         \n",
            "                                                                 \n",
            " CAT (Dense)                 (None, 7)                 5383      \n",
            "                                                                 \n",
            "=================================================================\n",
            "Total params: 109,487,623\n",
            "Trainable params: 109,487,623\n",
            "Non-trainable params: 0\n",
            "_________________________________________________________________\n"
          ]
        }
      ]
    },
    {
      "cell_type": "code",
      "source": [
        "\n",
        "import spacy\n",
        "import re\n",
        "import nltk\n",
        "#en_core_web_sm: this package must be the newest version, currently 3.5.0   (by 2023.04.02)\n",
        "!pip3 install https://github.com/explosion/spacy-models/releases/download/en_core_web_sm-3.5.0/en_core_web_sm-3.5.0.tar.gz --quiet\n",
        "import en_core_web_sm"
      ],
      "metadata": {
        "id": "0E9Qowhr0uEB",
        "colab": {
          "base_uri": "https://localhost:8080/"
        },
        "outputId": "165a8aa4-b96a-43b8-bbd1-04ff5f70320a"
      },
      "execution_count": 55,
      "outputs": [
        {
          "output_type": "stream",
          "name": "stdout",
          "text": [
            "\u001b[2K     \u001b[90m━━━━━━━━━━━━━━━━━━━━━━━━━━━━━━━━━━━━━━━━\u001b[0m \u001b[32m12.8/12.8 MB\u001b[0m \u001b[31m25.9 MB/s\u001b[0m eta \u001b[36m0:00:00\u001b[0m\n",
            "\u001b[?25h  Preparing metadata (setup.py) ... \u001b[?25l\u001b[?25hdone\n"
          ]
        }
      ]
    },
    {
      "cell_type": "code",
      "source": [
        "# import docx2txt\n",
        "\n",
        "# # replace following line with location of your .docx file\n",
        "# MY_TEXT = docx2txt.process(\"/content/drive/MyDrive/Final_pipeline/NDA.docx\")\n",
        "\n",
        "\n",
        "# with open(\"/content/drive/MyDrive/Final_pipeline/Output.txt\", \"w\") as text_file:\n",
        "#     print(MY_TEXT, file=text_file)"
      ],
      "metadata": {
        "id": "AWphw4TZLeoK"
      },
      "execution_count": 56,
      "outputs": []
    },
    {
      "cell_type": "code",
      "source": [
        "#open text file in read mode\n",
        "text_file = open(\"/content/drive/MyDrive/Final_pipeline/NDA.txt\", \"r\")\n",
        " \n",
        "#read whole file to a string\n",
        "data = text_file.read()\n",
        " \n",
        "#close file\n",
        "text_file.close()"
      ],
      "metadata": {
        "id": "HgtbuaxQ2LaX"
      },
      "execution_count": 57,
      "outputs": []
    },
    {
      "cell_type": "code",
      "source": [
        "#def a function which can split the doc into sentences\n",
        "def sentence_split(data):\n",
        "    # nlp = spacy.load(\"en_core_web_sm\")\n",
        "    nlp = en_core_web_sm.load()\n",
        "    \n",
        "    #take unicode string  \n",
        "    sentences = nlp(data)\n",
        "\n",
        "\n",
        "    sentencess = list(sentences.sents)\n",
        "\n",
        "    separated_sentences = []\n",
        "\n",
        "    for i in range(len(sentencess)):\n",
        "        sentence = sentencess[i].text\n",
        "        #sentence_separation = re.split('\\t|\\n|\\n\\t', sentence)\n",
        "        sentence = sentence.replace('\\n', '')\n",
        "        sentence = sentence.replace('\\t', '')\n",
        "        sentence = sentence.replace('\\ufeff', '')\n",
        "        sentence = sentence.replace('  ', '')\n",
        "        sentence = sentence.replace('   ', '') #there are always multiple spaces, change them to single space universally\n",
        "        sentences = re.split(r'\\.(?=\\s|$)', sentence)\n",
        "        separated_sentences += sentences\n",
        "\n",
        "\n",
        "    final_separated_sentences = [x for x in separated_sentences if x != '']\n",
        "    return final_separated_sentences\n",
        "\n",
        "\n",
        "splitted = sentence_split(data)\n"
      ],
      "metadata": {
        "id": "2Kx5zsmO2Lfw"
      },
      "execution_count": 58,
      "outputs": []
    },
    {
      "cell_type": "code",
      "source": [
        "splitted"
      ],
      "metadata": {
        "id": "hygpc35EOuZH",
        "colab": {
          "base_uri": "https://localhost:8080/"
        },
        "outputId": "65e45c49-09ec-447d-9e7e-60be1995f9b6"
      },
      "execution_count": 59,
      "outputs": [
        {
          "output_type": "execute_result",
          "data": {
            "text/plain": [
              "['Mutual Nondisclosure AgreementThis Mutual Nondisclosure Agreement (\"Agreement\") is made between Brex Inc',\n",
              " ' (\"Brex\") and ThoughtSpot Inc',\n",
              " ' (\"Company\")',\n",
              " 'The parties may disclose confidential information as part of a potential business relationship or transaction of mutual interest (\"Transaction\") and agree to protect and maintain secrecy of the information disclosed in confidence for the Transaction',\n",
              " 'The parties agree as follows:1',\n",
              " 'Definitions',\n",
              " 'In this Agreement: \"Affiliate\" means an entity that is directly or indirectly controls, is controlled by, or is under common control as a party, which shall include the power to direct or cause the direction of the management and policies of a person or an organization, whether by ownership of stock, voting rights, by contract, or otherwise; and \"Confidential Information\" is information disclosed by a party or its Affiliates or agents (collectively, the \"Disclosing Party\") to the other party or its Affiliates or agents (collectively, the \"Receiving Party\") that (a) the Disclosing Party identifies as confidential or proprietary, or (b) reasonably appears to be confidential or proprietary because of legends or other markings, the circumstances of disclosure, or the nature of the information itself, whether or not such information is related to Transaction',\n",
              " 'Without limiting the foregoing, Confidential Information includes the Disclosing Party’s technology, data, customer information, and business plans; and the details and nature of the Transaction',\n",
              " '2',\n",
              " 'Nondisclosure',\n",
              " 'Except as expressly permitted in this Agreement, the Receiving Party agrees to hold Confidential Information in strict confidence, only use Confidential Information for the purposes of the Transaction, and not disclose such Confidential Information to any third party except as expressly permitted by this Agreement',\n",
              " 'The Receiving Party may disclose Confidential Information to its employees or contractors (collectively, the \"Representatives\") with a bona fide need to know but only to the extent necessary under the Transaction provided that each such employee or contractor is bound by confidentiality obligations at least as protective as this Agreement',\n",
              " 'The Receiving Party will protect Confidential Information with at least the same degree of care that it uses to protect its own confidential or sensitive information but not less than reasonable care',\n",
              " 'The Receiving Party shall be responsible for any breach of this Agreement by its Representatives',\n",
              " 'The Receiving Party will immediately notify the Disclosing Party upon discovery of any loss or unauthorized disclosure of the Confidential Information of the Disclosing Party',\n",
              " '3',\n",
              " 'Exclusions and Exceptions',\n",
              " 'Confidential Information does not include information that is or becomes generally known or available to the public through no act or failure to act on the part of the Receiving Party, was or is legally obtained or learned by the Receiving Party, was legally furnished by a third________________party without restriction of use, or is independently developed by the Receiving Party without use of or reference to Confidential Information',\n",
              " 'The Receiving Party may disclose Confidential Information to the extent that disclosure is required by law or court order provided that the Receiving Party uses reasonable efforts to give the Disclosing Party prior notice if such prior notice is permitted by law',\n",
              " '4',\n",
              " ' Return or Destruction',\n",
              " 'Upon the Disclosing Party’s request and option, the Receiving Party will promptly return or certify the destruction or deletion of Confidential Information and copies made',\n",
              " 'Notwithstanding the foregoing, the Receiving Party may keep a copy of Confidential Information: (i) as strictly required by applicable laws, regulations, or internal compliance or recordkeeping policies; and/or (ii) that is kept in archival backup files; provided, however, that any such retained Confidential Information shall remain subject to the terms of this Agreement',\n",
              " '5',\n",
              " 'No License or Warranty',\n",
              " 'Confidential Information is and shall remain owned by the Disclosing Party or its licensors',\n",
              " 'This Agreement does not grant any express or implied right to the Receiving Party, by license or otherwise, to Confidential Information',\n",
              " 'Confidential information is provided without any warranties',\n",
              " '6',\n",
              " 'Injunctive Relief',\n",
              " 'The parties acknowledge that unauthorized disclosure or use of Confidential Information may cause irreparable harm to the Disclosing Party that may be difficult to ascertain and for which money damages would be insufficient',\n",
              " 'Accordingly, the Disclosing Party has the right to seek an immediate injunction to mitigate or prevent harm caused by a breach of this Agreement, in addition to the right to pursue other remedies available at law or in equity for such a breach',\n",
              " '7',\n",
              " 'Governing Law',\n",
              " 'This Agreement is interpreted and governed by the laws of the State of Utah without giving effect to its conflict of law principles',\n",
              " 'Any legal action or proceeding arising out of or relating to this Agreement may be instituted in the courts of the State of Utah sitting in Salt Lake County, Utah, and the parties hereto irrevocably submit to the jurisdiction of each such court in any action or proceeding',\n",
              " '8',\n",
              " 'Severability',\n",
              " 'Any provision of this Agreement that is found to be unenforceable will be severed and the remaining terms will be enforced without invalidating the remainder of either the affected provision or this Agreement',\n",
              " '9',\n",
              " 'Complete Agreement',\n",
              " 'This Agreement is the complete and exclusive statement regarding handling and protection of________________ConfidentialInformationandsupersedesallprior understandings and communications, whether oral or written',\n",
              " '10',\n",
              " 'Term',\n",
              " 'This Agreement will remain in effect for one (1) year from the Effective Date, at which time it will terminate; provided, however, that the Receiving Party’s confidentiality obligations as provided hereunder will survive termination for an additional two (2) years',\n",
              " 'This Agreement is accepted and agreed as of August 3, 2022',\n",
              " 'CompanyBrex Inc',\n",
              " 'By:By:Name:Name:',\n",
              " 'Title:Title:Email:Email:Company Address:',\n",
              " 'Brex Address:50 W Broadway, Ste 333, #15548 Salt Lake City, UT 84101']"
            ]
          },
          "metadata": {},
          "execution_count": 59
        }
      ]
    },
    {
      "cell_type": "code",
      "source": [
        "#now define a function seperating the document into list of paragraphs\n",
        "\n",
        "def par(splitted):\n",
        "    ind = 0\n",
        "    paragraphs = []\n",
        "    splitting_index = []\n",
        "\n",
        "    #get the index of splitting\n",
        "    for i in range(len(splitted)):\n",
        "        if len(splitted[i].split()) < 5:\n",
        "            splitting_index.append(i)\n",
        "    \n",
        "    for j in range(len(splitting_index)):\n",
        "        temp_para = \"\"\n",
        "        while ind < splitting_index[j]:\n",
        "            temp_para += splitted[ind]\n",
        "            ind += 1\n",
        "        paragraphs.append(temp_para)\n",
        "    return [p for p in paragraphs if len(p.split()) > 5]\n",
        "\n",
        "paragraphs = par(splitted)"
      ],
      "metadata": {
        "id": "XDcBBRpG2Lik"
      },
      "execution_count": 60,
      "outputs": []
    },
    {
      "cell_type": "code",
      "source": [
        "# Name of the BERT model to use\n",
        "model_name = 'bert-base-uncased'\n",
        "\n",
        "# Max length of tokens\n",
        "max_length = 100\n",
        "\n",
        "# Load transformers config and set output_hidden_states to False\n",
        "config = BertConfig.from_pretrained(model_name)\n",
        "config.output_hidden_states = False\n",
        "\n",
        "# Load BERT tokenizer\n",
        "tokenizer = BertTokenizerFast.from_pretrained(pretrained_model_name_or_path = model_name, config = config)\n",
        "\n",
        "\n",
        "test_x = tokenizer(\n",
        "    text=par(splitted),\n",
        "    add_special_tokens=True,\n",
        "    max_length=max_length,\n",
        "    truncation=True,\n",
        "    padding=True, \n",
        "    return_tensors='tf',\n",
        "    return_token_type_ids = False,\n",
        "    return_attention_mask = False,\n",
        "    verbose = True)\n",
        "\n",
        "test_x"
      ],
      "metadata": {
        "id": "c0AE8GRrP4FZ",
        "colab": {
          "base_uri": "https://localhost:8080/"
        },
        "outputId": "d765659d-ce19-4df4-c077-daaa0dec44bb"
      },
      "execution_count": 61,
      "outputs": [
        {
          "output_type": "execute_result",
          "data": {
            "text/plain": [
              "{'input_ids': <tf.Tensor: shape=(12, 100), dtype=int32, numpy=\n",
              "array([[  101,  8203,  2512, ...,     0,     0,     0],\n",
              "       [  101,  1006,  1000, ...,     0,     0,     0],\n",
              "       [  101, 15182,  2378, ...,  2000,  1996,   102],\n",
              "       ...,\n",
              "       [  101,  7367, 26061, ...,     0,     0,     0],\n",
              "       [  101,  3143,  3820, ...,     0,     0,     0],\n",
              "       [  101,  2744, 15222, ...,     0,     0,     0]], dtype=int32)>}"
            ]
          },
          "metadata": {},
          "execution_count": 61
        }
      ]
    },
    {
      "cell_type": "code",
      "source": [
        "#predict the possible value \n",
        "bert_result = bert_model.predict(test_x['input_ids'])"
      ],
      "metadata": {
        "colab": {
          "base_uri": "https://localhost:8080/"
        },
        "id": "PjIqHLV4uEhH",
        "outputId": "98920ce1-b8dc-40bb-d9bb-78c12bee6351"
      },
      "execution_count": 62,
      "outputs": [
        {
          "output_type": "stream",
          "name": "stdout",
          "text": [
            "1/1 [==============================] - 16s 16s/step\n"
          ]
        }
      ]
    },
    {
      "cell_type": "code",
      "source": [
        "#define a function, which can return the top 3 potential categories of a paragraph\n",
        "#this method would return a dictionary: key is each paragraph, the corresponding values a the top 3 potential categories\n",
        "target_names = ['DEF', 'EXP', 'GOV', 'REM', 'RIG', 'TER', 'WAR']\n",
        "\n",
        "def par_cat(bert_result, paragraphs, target_names, topN):\n",
        "    result = {}\n",
        "    for i in range(len(bert_result[\"CAT\"])):\n",
        "        val = np.argsort(bert_result[\"CAT\"][i])[::-1][:topN]\n",
        "        result[paragraphs[i]] = [target_names[v] for v in val]\n",
        "    return result\n"
      ],
      "metadata": {
        "id": "DjtShNU1xaYs"
      },
      "execution_count": 63,
      "outputs": []
    },
    {
      "cell_type": "code",
      "source": [
        "par_cat(bert_result, paragraphs, target_names, 3)"
      ],
      "metadata": {
        "colab": {
          "base_uri": "https://localhost:8080/"
        },
        "id": "srS_BkAexadc",
        "outputId": "9f8292b3-9723-43b6-91e0-021d1841c96e"
      },
      "execution_count": 64,
      "outputs": [
        {
          "output_type": "execute_result",
          "data": {
            "text/plain": [
              "{'Mutual Nondisclosure AgreementThis Mutual Nondisclosure Agreement (\"Agreement\") is made between Brex Inc': ['RIG',\n",
              "  'DEF',\n",
              "  'EXP'],\n",
              " ' (\"Company\")The parties may disclose confidential information as part of a potential business relationship or transaction of mutual interest (\"Transaction\") and agree to protect and maintain secrecy of the information disclosed in confidence for the TransactionThe parties agree as follows:1': ['RIG',\n",
              "  'DEF',\n",
              "  'EXP'],\n",
              " 'DefinitionsIn this Agreement: \"Affiliate\" means an entity that is directly or indirectly controls, is controlled by, or is under common control as a party, which shall include the power to direct or cause the direction of the management and policies of a person or an organization, whether by ownership of stock, voting rights, by contract, or otherwise; and \"Confidential Information\" is information disclosed by a party or its Affiliates or agents (collectively, the \"Disclosing Party\") to the other party or its Affiliates or agents (collectively, the \"Receiving Party\") that (a) the Disclosing Party identifies as confidential or proprietary, or (b) reasonably appears to be confidential or proprietary because of legends or other markings, the circumstances of disclosure, or the nature of the information itself, whether or not such information is related to TransactionWithout limiting the foregoing, Confidential Information includes the Disclosing Party’s technology, data, customer information, and business plans; and the details and nature of the Transaction': ['DEF',\n",
              "  'EXP',\n",
              "  'RIG'],\n",
              " 'NondisclosureExcept as expressly permitted in this Agreement, the Receiving Party agrees to hold Confidential Information in strict confidence, only use Confidential Information for the purposes of the Transaction, and not disclose such Confidential Information to any third party except as expressly permitted by this AgreementThe Receiving Party may disclose Confidential Information to its employees or contractors (collectively, the \"Representatives\") with a bona fide need to know but only to the extent necessary under the Transaction provided that each such employee or contractor is bound by confidentiality obligations at least as protective as this AgreementThe Receiving Party will protect Confidential Information with at least the same degree of care that it uses to protect its own confidential or sensitive information but not less than reasonable careThe Receiving Party shall be responsible for any breach of this Agreement by its RepresentativesThe Receiving Party will immediately notify the Disclosing Party upon discovery of any loss or unauthorized disclosure of the Confidential Information of the Disclosing Party': ['RIG',\n",
              "  'EXP',\n",
              "  'DEF'],\n",
              " 'Exclusions and ExceptionsConfidential Information does not include information that is or becomes generally known or available to the public through no act or failure to act on the part of the Receiving Party, was or is legally obtained or learned by the Receiving Party, was legally furnished by a third________________party without restriction of use, or is independently developed by the Receiving Party without use of or reference to Confidential InformationThe Receiving Party may disclose Confidential Information to the extent that disclosure is required by law or court order provided that the Receiving Party uses reasonable efforts to give the Disclosing Party prior notice if such prior notice is permitted by law': ['EXP',\n",
              "  'DEF',\n",
              "  'RIG'],\n",
              " ' Return or DestructionUpon the Disclosing Party’s request and option, the Receiving Party will promptly return or certify the destruction or deletion of Confidential Information and copies madeNotwithstanding the foregoing, the Receiving Party may keep a copy of Confidential Information: (i) as strictly required by applicable laws, regulations, or internal compliance or recordkeeping policies; and/or (ii) that is kept in archival backup files; provided, however, that any such retained Confidential Information shall remain subject to the terms of this Agreement': ['TER',\n",
              "  'WAR',\n",
              "  'REM'],\n",
              " 'No License or WarrantyConfidential Information is and shall remain owned by the Disclosing Party or its licensorsThis Agreement does not grant any express or implied right to the Receiving Party, by license or otherwise, to Confidential InformationConfidential information is provided without any warranties': ['WAR',\n",
              "  'EXP',\n",
              "  'DEF'],\n",
              " 'Injunctive ReliefThe parties acknowledge that unauthorized disclosure or use of Confidential Information may cause irreparable harm to the Disclosing Party that may be difficult to ascertain and for which money damages would be insufficientAccordingly, the Disclosing Party has the right to seek an immediate injunction to mitigate or prevent harm caused by a breach of this Agreement, in addition to the right to pursue other remedies available at law or in equity for such a breach': ['REM',\n",
              "  'GOV',\n",
              "  'WAR'],\n",
              " 'Governing LawThis Agreement is interpreted and governed by the laws of the State of Utah without giving effect to its conflict of law principlesAny legal action or proceeding arising out of or relating to this Agreement may be instituted in the courts of the State of Utah sitting in Salt Lake County, Utah, and the parties hereto irrevocably submit to the jurisdiction of each such court in any action or proceeding': ['GOV',\n",
              "  'EXP',\n",
              "  'RIG'],\n",
              " 'SeverabilityAny provision of this Agreement that is found to be unenforceable will be severed and the remaining terms will be enforced without invalidating the remainder of either the affected provision or this Agreement': ['EXP',\n",
              "  'TER',\n",
              "  'REM'],\n",
              " 'Complete AgreementThis Agreement is the complete and exclusive statement regarding handling and protection of________________ConfidentialInformationandsupersedesallprior understandings and communications, whether oral or written': ['RIG',\n",
              "  'EXP',\n",
              "  'DEF'],\n",
              " 'TermThis Agreement will remain in effect for one (1) year from the Effective Date, at which time it will terminate; provided, however, that the Receiving Party’s confidentiality obligations as provided hereunder will survive termination for an additional two (2) yearsThis Agreement is accepted and agreed as of August 3, 2022': ['TER',\n",
              "  'EXP',\n",
              "  'RIG']}"
            ]
          },
          "metadata": {},
          "execution_count": 64
        }
      ]
    },
    {
      "cell_type": "code",
      "source": [],
      "metadata": {
        "id": "fjun5TBuxaf0"
      },
      "execution_count": 64,
      "outputs": []
    }
  ]
}