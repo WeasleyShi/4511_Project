{
 "cells": [
  {
   "cell_type": "code",
   "execution_count": 1,
   "metadata": {},
   "outputs": [
    {
     "data": {
      "text/html": [
       "        <script type=\"text/javascript\">\n",
       "        window.PlotlyConfig = {MathJaxConfig: 'local'};\n",
       "        if (window.MathJax && window.MathJax.Hub && window.MathJax.Hub.Config) {window.MathJax.Hub.Config({SVG: {font: \"STIX-Web\"}});}\n",
       "        if (typeof require !== 'undefined') {\n",
       "        require.undef(\"plotly\");\n",
       "        requirejs.config({\n",
       "            paths: {\n",
       "                'plotly': ['https://cdn.plot.ly/plotly-2.12.1.min']\n",
       "            }\n",
       "        });\n",
       "        require(['plotly'], function(Plotly) {\n",
       "            window._Plotly = Plotly;\n",
       "        });\n",
       "        }\n",
       "        </script>\n",
       "        "
      ]
     },
     "metadata": {},
     "output_type": "display_data"
    }
   ],
   "source": [
    "#package imports\n",
    "import numpy as np\n",
    "import pandas as pd\n",
    "import matplotlib.pyplot as plt\n",
    "import matplotlib.pyplot as plt\n",
    "import seaborn as sns\n",
    "import re\n",
    "import cufflinks\n",
    "from nltk.corpus import stopwords\n",
    "from IPython.core.interactiveshell import InteractiveShell\n",
    "import plotly.figure_factory as ff\n",
    "InteractiveShell.ast_node_interactivity = 'all'\n",
    "from plotly.offline import iplot\n",
    "cufflinks.go_offline()\n",
    "cufflinks.set_config_file(world_readable=True, theme='pearl')\n",
    "\n",
    "\n",
    "\n",
    "\n",
    "\n",
    "\n",
    "# And pandas for data import + sklearn because you allways need sklearn\n",
    "import pandas as pd\n",
    "from sklearn.model_selection import train_test_split\n"
   ]
  },
  {
   "cell_type": "code",
   "execution_count": 3,
   "metadata": {},
   "outputs": [],
   "source": [
    "from transformers import TFBertModel,  BertConfig, BertTokenizerFast\n",
    "# Then what you need from tensorflow.keras\n",
    "from tensorflow.keras.layers import Input, Dropout, Dense\n",
    "from tensorflow.keras.models import Model\n",
    "from tensorflow.keras.optimizers import Adam\n",
    "from tensorflow.keras.callbacks import EarlyStopping\n",
    "from tensorflow.keras.initializers import TruncatedNormal\n",
    "from tensorflow.keras.losses import CategoricalCrossentropy\n",
    "from tensorflow.keras.metrics import CategoricalAccuracy\n",
    "from tensorflow.keras.utils import to_categorical\n"
   ]
  },
  {
   "cell_type": "code",
   "execution_count": null,
   "metadata": {},
   "outputs": [],
   "source": [
    "# data = pd.read_csv(\"NDA.csv\")\n",
    "# NDA = data.copy()\n",
    "# NDA = NDA.dropna(how = 'all')"
   ]
  },
  {
   "cell_type": "code",
   "execution_count": null,
   "metadata": {},
   "outputs": [],
   "source": [
    "NDA['Category'].value_counts().sort_values(ascending = False).iplot(kind = \"bar\", \n",
    "yTitle = 'Number of class', title = 'Number of cases in each category')"
   ]
  },
  {
   "cell_type": "code",
   "execution_count": null,
   "metadata": {},
   "outputs": [],
   "source": [
    "'''a function which re-catogerize the NDA clauses in order to improve model accuracy and make the \n",
    "classification easier\n",
    "Originally there are 17 categories, and now we are compressing it to 7'''\n",
    "\n",
    "def reclassify(row):\n",
    "    if row['Category'] == 1 or row['Category'] == 3:\n",
    "        return 'DEF'\n",
    "    elif row['Category'] == 2:\n",
    "        return 'RIG'\n",
    "    elif row['Category'] == 4 or row['Category'] == 15:\n",
    "        return 'EXP'\n",
    "    elif row['Category'] == 5 or row['Category'] == 6:\n",
    "        return 'WAR'\n",
    "    elif row['Category'] == 7 or row['Category'] == 10:\n",
    "        return 'GOV'\n",
    "    elif row['Category'] == 8:\n",
    "        return 'REM'\n",
    "    elif row['Category'] == 13 or row['Category'] == 16:\n",
    "        return 'TER'\n",
    "    else:\n",
    "        return 'GEN'\n",
    "\n",
    "\n",
    "NDA['CAT'] = NDA.apply(lambda row: reclassify(row), axis = 1)\n"
   ]
  },
  {
   "cell_type": "code",
   "execution_count": null,
   "metadata": {},
   "outputs": [],
   "source": [
    "#the value counts\n",
    "NDA['CAT'].value_counts()\n",
    "#after reclassified\n",
    "NDA['CAT'].value_counts().sort_values(ascending = False).iplot(kind = \"bar\", \n",
    "yTitle = 'Number of class', title = 'Number of cases in each category after reclassification')"
   ]
  },
  {
   "cell_type": "code",
   "execution_count": null,
   "metadata": {},
   "outputs": [],
   "source": [
    "#a process of cleaning data \n",
    "NDA = NDA.reset_index(drop=True)\n",
    "REPLACE_BY_SPACE = re.compile('[/(){}\\[\\]\\|@,;\\n\\r*]')\n",
    "BAD_SYMBOLS = re.compile('[^0-9a-z #+_]')\n",
    "STOPWORDS = set(stopwords.words('english'))\n",
    "\n",
    "def clean_text(para):\n",
    "\n",
    "    para = str(para)\n",
    "    para = para.lower()\n",
    "    para = REPLACE_BY_SPACE.sub(' ', para)\n",
    "    para = BAD_SYMBOLS.sub('', para)\n",
    "    para = ' '.join(word for word in para.split() if word not in STOPWORDS)\n",
    "    para = para.lstrip('0123456789.- ') #remove the digits/space/dots at the start of the string\n",
    "\n",
    "    return para\n",
    "\n",
    "\n",
    "NDA['cleaned_txt'] = NDA['Text'].apply(clean_text) #the cleaned data\n",
    "    "
   ]
  },
  {
   "cell_type": "code",
   "execution_count": null,
   "metadata": {},
   "outputs": [],
   "source": []
  }
 ],
 "metadata": {
  "interpreter": {
   "hash": "4b700fda2b1fe4e42d09251a5077ace29fa7b3db07261659c5bdece5f107dc5e"
  },
  "kernelspec": {
   "display_name": "Python 3.9.13 ('base')",
   "language": "python",
   "name": "python3"
  },
  "language_info": {
   "codemirror_mode": {
    "name": "ipython",
    "version": 3
   },
   "file_extension": ".py",
   "mimetype": "text/x-python",
   "name": "python",
   "nbconvert_exporter": "python",
   "pygments_lexer": "ipython3",
   "version": "3.9.13"
  },
  "orig_nbformat": 4
 },
 "nbformat": 4,
 "nbformat_minor": 2
}
