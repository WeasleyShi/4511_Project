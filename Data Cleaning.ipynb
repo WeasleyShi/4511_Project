{
 "cells": [
  {
   "cell_type": "code",
   "execution_count": 2,
   "metadata": {},
   "outputs": [],
   "source": [
    "import numpy as np\n",
    "import pandas as pd\n",
    "\n",
    "data = pd.read_csv(\"NDA.csv\")\n"
   ]
  },
  {
   "cell_type": "code",
   "execution_count": 8,
   "metadata": {},
   "outputs": [
    {
     "data": {
      "text/plain": [
       "'1. DEFINITIONS\\n\"Confidential Information\" means information (regardless of its form) disclosed or otherwise made available by or on behalf of the Discloser or its Related Entities to the Recipient or its Authorised Representatives, including before the date of this Agreement, for or in connection with the Purpose, which:\\n(a) is marked as being proprietary or confidential to the Discloser or its Related Entities, or that the Discloser has otherwise advised is proprietary or confidential to Discloser or its Related Entities;\\n(b) is confidential to a third party to whom the Discloser or its Related Entities owes an obligation of confidence, which obligation is notified to the Recipient or its Authorised Representatives; and/or\\n(c) in the circumstances surrounding disclosure or because of the nature of the information, ought in good faith to be treated as confidential,\\nand expressly includes:\\n(d) information that relates to or includes financial information, business plans, trade secrets, customers or suppliers of the Discloser or its Related Entities;\\n(e) the contents of this Agreement;\\n(f) the fact of or content of any discussions between the parties relating to the Purpose; and\\n(g) information created by the Recipient that is derived wholly or partly from the Confidential Information.\\n\"Discloser\" means the party disclosing or otherwise making available Confidential Information to the Recipient in relation to the Purpose.\\n\"Excluded Information\" means Confidential Information:\\n(a) which is in or becomes part of the public domain other than through a breach of this Agreement or an obligation of confidentiality owed to the Discloser;\\n(b) which the Recipient can prove was already known to it prior to or at the time of disclosure by the Discloser;\\n(c) which the Recipient can prove was independently developed by it prior to or at the time of disclosure by the Discloser; or\\n(d) which the Recipient acquires or acquired from a third party entitled to disclose it.\\n\"Recipient\" means the party receiving Confidential Information in relation to the Purpose.\\n\"Related Entities\" has the meaning given to it in the Corporations Act 2001 (Cth).\\n'"
      ]
     },
     "execution_count": 8,
     "metadata": {},
     "output_type": "execute_result"
    }
   ],
   "source": [
    "data['Text'][0]"
   ]
  },
  {
   "cell_type": "code",
   "execution_count": 9,
   "metadata": {},
   "outputs": [
    {
     "data": {
      "text/plain": [
       "'Hello'"
      ]
     },
     "execution_count": 9,
     "metadata": {},
     "output_type": "execute_result"
    }
   ],
   "source": [
    "\"Hello\""
   ]
  },
  {
   "cell_type": "code",
   "execution_count": null,
   "metadata": {},
   "outputs": [],
   "source": []
  }
 ],
 "metadata": {
  "interpreter": {
   "hash": "4b700fda2b1fe4e42d09251a5077ace29fa7b3db07261659c5bdece5f107dc5e"
  },
  "kernelspec": {
   "display_name": "Python 3.9.13 ('base')",
   "language": "python",
   "name": "python3"
  },
  "language_info": {
   "codemirror_mode": {
    "name": "ipython",
    "version": 3
   },
   "file_extension": ".py",
   "mimetype": "text/x-python",
   "name": "python",
   "nbconvert_exporter": "python",
   "pygments_lexer": "ipython3",
   "version": "3.9.13"
  },
  "orig_nbformat": 4
 },
 "nbformat": 4,
 "nbformat_minor": 2
}
