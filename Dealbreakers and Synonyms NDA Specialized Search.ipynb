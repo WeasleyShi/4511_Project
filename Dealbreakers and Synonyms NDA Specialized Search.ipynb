{
 "cells": [
  {
   "cell_type": "code",
   "execution_count": 1,
   "metadata": {},
   "outputs": [],
   "source": [
    "# required packages\n",
    "\n",
    "# nltk.download('wordnet')\n",
    "\n",
    "# nltk.download('omw-1.4')\n",
    "\n",
    "# pip install python-docx"
   ]
  },
  {
   "cell_type": "code",
   "execution_count": 2,
   "metadata": {},
   "outputs": [],
   "source": [
    "# Required import\n",
    "import nltk\n",
    "from nltk.corpus import wordnet\n",
    "\n",
    "import docx2txt\n",
    "import spacy\n",
    "import re\n",
    "from docx import Document\n",
    "\n",
    "from docx.shared import RGBColor\n",
    "from docx.oxml import OxmlElement\n",
    "from docx.oxml.ns import qn\n",
    "\n",
    "import docx\n",
    "from docx.enum.text import WD_COLOR_INDEX\n",
    "\n",
    "import time"
   ]
  },
  {
   "cell_type": "code",
   "execution_count": 3,
   "metadata": {},
   "outputs": [],
   "source": [
    "start_time = time.time()"
   ]
  },
  {
   "attachments": {},
   "cell_type": "markdown",
   "metadata": {},
   "source": [
    "Find Synonyms of words in dealbreaker words list"
   ]
  },
  {
   "cell_type": "code",
   "execution_count": 4,
   "metadata": {},
   "outputs": [],
   "source": [
    "# create function to find synonyms from the dealbreaker words list\n",
    "\n",
    "def get_synonyms(word):\n",
    "    synonyms = []\n",
    "    for syn in wordnet.synsets(word):\n",
    "        for lemma in syn.lemmas():\n",
    "            synonyms.append(lemma.name())\n",
    "    return synonyms"
   ]
  },
  {
   "cell_type": "code",
   "execution_count": 5,
   "metadata": {},
   "outputs": [],
   "source": [
    "# Already existed words in Parties \n",
    "\n",
    "Parties = [\"Unilateral\", \"One-Way\", \"One Way\", \"company (\\\"Disclosing Party\\\")\", \"company (\\\"Discloser\\\")\", \"corporation (\\\"Disclosing Party\\\")\", \"corporation (\\\"Discloser\\\")\",  \"LLC (\\\"Disclosing Party\\\")\", \"LLC (\\\"Discloser\\\")\",  \"Inc. (\\\"Disclosing Party\\\")\", \"Inc. (\\\"Discloser\\\")\",  \"Incorporated (\\\"Disclosing Party\\\")\", \"Incorporated (\\\"Discloser\\\")\", \"Co. (\\\"Disclosing Party\\\")\", \"Co. (\\\"Discloser\\\")\"]\n",
    "\n",
    "# No change because these words really do not have synonyms"
   ]
  },
  {
   "cell_type": "code",
   "execution_count": 6,
   "metadata": {},
   "outputs": [],
   "source": [
    "# Already existed words in Residuals/ Memories\n",
    "\n",
    "Residuals = [\"residual\", \"residuals\", \"memories\", \"unaided\", \"memory\"]\n",
    "\n",
    "# find synonyms\n",
    "synonyms_residuals = []\n",
    "for word in Residuals:\n",
    "    synonyms_residuals.append(get_synonyms(word))\n",
    "\n",
    "## synonyms_residuals\n",
    "\n",
    "# since each word in Residuals will generate a list of its synonyms,\n",
    "# # hence, combine these sublists into one list\n",
    "combined_synonyms_residuals = []\n",
    "for sublst in synonyms_residuals:\n",
    "    combined_synonyms_residuals.extend(sublst)\n",
    "\n",
    "# clean the list to only pick up unique words, since some words' synonyms may be repeated\n",
    "unique_synonyms_residuals = list(set(combined_synonyms_residuals))\n",
    "\n",
    "\n",
    "# Notice: \n",
    "# There are TWO lists of words of Residuals now:\n",
    "# Only is only about Residuals Dealbreaker words\n",
    "# Second one is about synonyms of Residuals Dealbreaker words.\n",
    "\n"
   ]
  },
  {
   "cell_type": "code",
   "execution_count": 7,
   "metadata": {},
   "outputs": [],
   "source": [
    "# Arealdy existed words in Limitation of Liability\n",
    "\n",
    "Limitation = [\"Limitation of Liability\", \"under no circumstances\", \"shall be limited\", \"special, incidental, indirect or consequential damages\", \"punitive\",\"exemplary\",\"consequential\",\"indirect\",\"incidental\"]\n",
    "words_in_limitation = [\"punitive\",\"exemplary\",\"consequential\",\"indirect\",\"incidental\"]\n",
    "\n",
    "# find synonyms\n",
    "synonyms_limitation = []\n",
    "for word in words_in_limitation:\n",
    "    synonyms_limitation.append(get_synonyms(word))\n",
    "\n",
    "## synonyms_limitation\n",
    "\n",
    "# combined sublists into one list\n",
    "combined_synonyms_limitation = []\n",
    "for sublst in synonyms_limitation:\n",
    "    combined_synonyms_limitation.extend(sublst)\n",
    "\n",
    "# unique words, some have repeated words\n",
    "unique_synonyms_limitation = list(set(combined_synonyms_limitation))\n",
    "\n",
    "# Notice: \n",
    "# There are TWO lists of words of Limitation of Liability now:\n",
    "# Only is only about Limitation of Liability Dealbreaker words\n",
    "# Second one is about synonyms of Limitation of Liability Dealbreaker words."
   ]
  },
  {
   "cell_type": "code",
   "execution_count": 8,
   "metadata": {},
   "outputs": [],
   "source": [
    "# Already existed words in Non-competition\n",
    "\n",
    "Noncompetition = [\"compete\", \"competition\", \"non-compete\", \"non-competition\", \"non compete\", \"non competition\" ]\n",
    "\n",
    "# find synonyms\n",
    "synonyms_noncompetition = []\n",
    "for word in Noncompetition:\n",
    "    synonyms_noncompetition.append(get_synonyms(word))\n",
    "\n",
    "## synonyms_noncompetition\n",
    "\n",
    "# combined sublists into one list\n",
    "combined_synonyms_noncompetition = []\n",
    "for sublst in synonyms_noncompetition:\n",
    "    combined_synonyms_noncompetition.extend(sublst)\n",
    "\n",
    "# unique words, some have repeated words\n",
    "unique_synonyms_noncompetition = list(set(combined_synonyms_noncompetition))\n",
    "\n",
    "\n",
    "\n",
    "# Notice: \n",
    "# There are TWO lists of words of Noncompetition now:\n",
    "# Only is only about Residuals Noncompetition words\n",
    "# Second one is about synonyms of Noncompetition Dealbreaker words."
   ]
  },
  {
   "cell_type": "code",
   "execution_count": 9,
   "metadata": {},
   "outputs": [],
   "source": [
    "# Already existed words in Non-solicitation\n",
    "\n",
    "Nonsolicitation = [\"non-solicitation\", \"solicit\", \"non-solicit\", \"non-servicing\",   \"nonsolicitation\", \"nonsolicit\", \"nonservicing\",  \"solicit\",  \"non solicitation\", \"non solicit\", \"non servicing\",  \"no solicit\", \"no-solicit\"]\n",
    "\n",
    "# find synonyms\n",
    "synonyms_nonsolicitation = []\n",
    "for word in Nonsolicitation:\n",
    "    synonyms_nonsolicitation.append(get_synonyms(word))\n",
    "\n",
    "## synonyms_nonsolicitation\n",
    "\n",
    "# combined sublists into one list\n",
    "combined_synonyms_nonsolicitation = []\n",
    "for sublst in synonyms_nonsolicitation:\n",
    "    combined_synonyms_nonsolicitation.extend(sublst)\n",
    "\n",
    "# unique words, some have repeated words\n",
    "unique_synonyms_nonsolicitation = list(set(combined_synonyms_nonsolicitation))\n",
    "\n",
    "\n",
    "# Notice: \n",
    "# There are TWO lists of words of Nonsolicitation now:\n",
    "# Only is only about Residuals Dealbreaker words\n",
    "# Second one is about synonyms of Residuals Dealbreaker words."
   ]
  },
  {
   "cell_type": "code",
   "execution_count": 10,
   "metadata": {},
   "outputs": [],
   "source": [
    "# Already existed words in Indemnification\n",
    "\n",
    "Indemnification = [\"indemnification\", \"indemnity\", \"hold-harmless\", \"hold harmless\", \"indemnify\", \"indemnified\", \"indemnifying\", \"defend\"]\n",
    "\n",
    "# find synonyms\n",
    "synonyms_indemnification = []\n",
    "for word in Indemnification:\n",
    "    synonyms_indemnification.append(get_synonyms(word))\n",
    "\n",
    "## synonyms_indemnification\n",
    "\n",
    "# combined sublists into one list\n",
    "combined_synonyms_indemnification = []\n",
    "for sublst in synonyms_indemnification:\n",
    "    combined_synonyms_indemnification.extend(sublst)\n",
    "\n",
    "# unique words, some have repeated words\n",
    "unique_synonyms_indemnification = list(set(combined_synonyms_indemnification))\n",
    "\n",
    "# Notice: \n",
    "# There are TWO lists of words of Indemnification now:\n",
    "# Only is only about Indemnification Dealbreaker words\n",
    "# Second one is about synonyms of Indemnification Dealbreaker words."
   ]
  },
  {
   "cell_type": "code",
   "execution_count": 11,
   "metadata": {},
   "outputs": [],
   "source": [
    "# Already existed words in Governing Law/ Jurisdiction\n",
    "\n",
    "# No change, these words are only country names.\n",
    "\n",
    "Governing = [\"Texas\", \"Italy\", \"Italian\"]"
   ]
  },
  {
   "cell_type": "code",
   "execution_count": 12,
   "metadata": {},
   "outputs": [],
   "source": [
    "# Already existed words in Exceptions\n",
    "\n",
    "# No changes, they are not words but lines.\n",
    "Exceptions =  [\"was communicated by Disclosing Party to an unaffiliated third party free of any obligation of confidence\",   \"was communicated by Disclosing Party to a third party free of any obligation of confidence\", \"was communicated by Disclosing Party to  a third party without an obligation of confidence\", \"was disclosed by Disclosing Party to  a third party without an obligation of confidence\", \" was disclosed by Discloser to a third party without an obligation of confidentiality\"]\n"
   ]
  },
  {
   "cell_type": "code",
   "execution_count": 13,
   "metadata": {},
   "outputs": [],
   "source": [
    "# Already existed words for Representatives\n",
    "\n",
    "# Different from the above, this part is for existence, if exist, yes, if not exist, output a warning sign about \"Missing Representatives\"\n",
    "\n",
    "Representatives = [\"responsible\", \"liable\"]\n",
    "\n",
    "# find synonyms\n",
    "synonyms_representatives = []\n",
    "for word in Representatives:\n",
    "    synonyms_representatives.append(get_synonyms(word))\n",
    "\n",
    "## synonyms_representatives\n",
    "\n",
    "# combined sublists into one list\n",
    "combined_synonyms_representatives = []\n",
    "for sublst in synonyms_representatives:\n",
    "    combined_synonyms_representatives.extend(sublst)\n",
    "\n",
    "# unique words, some have repeated words\n",
    "unique_synonyms_representatives = list(set(combined_synonyms_representatives))\n",
    "\n",
    "\n",
    "# Notice: \n",
    "# There are TWO lists of words of Representatives now:\n",
    "# Only is only about Representatives Dealbreaker words\n",
    "# Second one is about synonyms of Representatives Dealbreaker words."
   ]
  },
  {
   "cell_type": "code",
   "execution_count": 14,
   "metadata": {},
   "outputs": [],
   "source": [
    "# Already existed words for Remedies\n",
    "\n",
    "# Same as the last one, this part is for existence, if exist, yes, if not exist, output a warning sign about \"Missing Remedies\"\n",
    "Remedies = [\"injunction\", \"injunctive\",\"equitable\"]\n",
    "\n",
    "# find synonyms\n",
    "synonyms_remedies = []\n",
    "for word in Remedies:\n",
    "    synonyms_remedies.append(get_synonyms(word))\n",
    "\n",
    "## synonyms_remedies\n",
    "\n",
    "# combined sublists into one list\n",
    "combined_synonyms_remedies = []\n",
    "for sublst in synonyms_remedies:\n",
    "    combined_synonyms_remedies.extend(sublst)\n",
    "\n",
    "# unique words, some have repeated words\n",
    "unique_synonyms_remedies = list(set(combined_synonyms_remedies))\n",
    "\n",
    "\n",
    "# Notice: \n",
    "# There are TWO lists of words of Remedies now:\n",
    "# Only is only about Remedies Dealbreaker words\n",
    "# Second one is about synonyms of Remedies Dealbreaker words."
   ]
  },
  {
   "cell_type": "code",
   "execution_count": 15,
   "metadata": {},
   "outputs": [],
   "source": [
    "# Already existed words for Privacy / Personal Information\n",
    "Privacy = [\"Personal Data\", \"Personal Information\",\"PII\", \"GDPR\", \"CCPA\", \"CPRA\", \"Privacy\"]\n",
    "words_in_privacy = [\"Privacy\"]\n",
    "\n",
    "# find synonyms\n",
    "synonyms_privacy = []\n",
    "for word in words_in_privacy:\n",
    "    synonyms_privacy.append(get_synonyms(word))\n",
    "\n",
    "## synonyms_privacy\n",
    "\n",
    "# combined sublists into one list\n",
    "combined_synonyms_privacy = []\n",
    "for sublst in synonyms_privacy:\n",
    "    combined_synonyms_privacy.extend(sublst)\n",
    "\n",
    "# unique words, some have repeated words\n",
    "unique_synonyms_privacy = list(set(combined_synonyms_privacy))\n",
    "\n",
    "# Notice: \n",
    "# There are TWO lists of words of Privacy now:\n",
    "# Only is only about Privacy Dealbreaker words\n",
    "# Second one is about synonyms of Privacy Dealbreaker words.\n"
   ]
  },
  {
   "attachments": {},
   "cell_type": "markdown",
   "metadata": {},
   "source": [
    "Test Trials"
   ]
  },
  {
   "cell_type": "code",
   "execution_count": 16,
   "metadata": {},
   "outputs": [],
   "source": [
    "# Test 3\n",
    "\n",
    "##           ###           ##  EEEEEEEEEEEEEEEE      III\n",
    " ##         ## ##         ##   E                     III\n",
    "  ##       ##   ##       ##    E                     III\n",
    "   ##     ##     ##     ##     EEEEEEEEEEEEEEE       III\n",
    "    ##   ##       ##   ##      E                     III\n",
    "     ## ##         ## ##       E                     III\n",
    "      ##            ##         EEEEEEEEEEEEEEEE      III\n",
    "\n",
    "#这个名字别改昂\n",
    "original_input_dictionary = {'Mutual Nondisclosure AgreementThis Mutual Nondisclosure Agreement (\"Agreement\") is made between Brex Inc': ['RIG','DEF','EXP'],\n",
    " ' (\"Company\")The parties may disclose confidential information as part of a potential business relationship or transaction of mutual interest (\"Transaction\") and agree to protect and maintain secrecy of the information disclosed in confidence for the TransactionThe parties agree as follows:1': ['RIG','DEF','EXP'],\n",
    " 'DefinitionsIn this Agreement: \"Affiliate\" means an entity that is directly or indirectly controls, is controlled by, or is under common control as a party, which shall include the power to direct or cause the direction of the management and policies of a person or an organization, whether by ownership of stock, voting rights, by contract, or otherwise; and \"Confidential Information\" is information disclosed by a party or its Affiliates or agents (collectively, the \"Disclosing Party\") to the other party or its Affiliates or agents (collectively, the \"Receiving Party\") that (a) the Disclosing Party identifies as confidential or proprietary, or (b) reasonably appears to be confidential or proprietary because of legends or other markings, the circumstances of disclosure, or the nature of the information itself, whether or not such information is related to TransactionWithout limiting the foregoing, Confidential Information includes the Disclosing Party’s technology, data, customer information, and business plans; and the details and nature of the Transaction': ['DEF','EXP','RIG'],\n",
    " 'NondisclosureExcept as expressly permitted in this Agreement, the Receiving Party agrees to hold Confidential Information in strict confidence, only use Confidential Information for the purposes of the Transaction, and not disclose such Confidential Information to any third party except as expressly permitted by this AgreementThe Receiving Party may disclose Confidential Information to its employees or contractors (collectively, the \"Representatives\") with a bona fide need to know but only to the extent necessary under the Transaction provided that each such employee or contractor is bound by confidentiality obligations at least as protective as this AgreementThe Receiving Party will protect Confidential Information with at least the same degree of care that it uses to protect its own confidential or sensitive information but not less than reasonable careThe Receiving Party shall be responsible for any breach of this Agreement by its RepresentativesThe Receiving Party will immediately notify the Disclosing Party upon discovery of any loss or unauthorized disclosure of the Confidential Information of the Disclosing Party': ['RIG','EXP','DEF'],\n",
    " 'Exclusions and ExceptionsConfidential Information does not include information that is or becomes generally known or available to the public through no act or failure to act on the part of the Receiving Party, was or is legally obtained or learned by the Receiving Party, was legally furnished by a third________________party without restriction of use, or is independently developed by the Receiving Party without use of or reference to Confidential InformationThe Receiving Party may disclose Confidential Information to the extent that disclosure is required by law or court order provided that the Receiving Party uses reasonable efforts to give the Disclosing Party prior notice if such prior notice is permitted by law': ['EXP','DEF','RIG'],\n",
    " ' Return or DestructionUpon the Disclosing Party’s request and option, the Receiving Party will promptly return or certify the destruction or deletion of Confidential Information and copies madeNotwithstanding the foregoing, the Receiving Party may keep a copy of Confidential Information: (i) as strictly required by applicable laws, regulations, or internal compliance or recordkeeping policies; and/or (ii) that is kept in archival backup files; provided, however, that any such retained Confidential Information shall remain subject to the terms of this Agreement': ['TER','WAR', 'REM'],\n",
    " 'No License or WarrantyConfidential Information is and shall remain owned by the Disclosing Party or its licensorsThis Agreement does not grant any express or implied right to the Receiving Party, by license or otherwise, to Confidential InformationConfidential information is provided without any warranties': ['WAR','EXP','DEF'],\n",
    " 'Injunctive ReliefThe parties acknowledge that unauthorized disclosure or use of Confidential Information may cause irreparable harm to the Disclosing Party that may be difficult to ascertain and for which money damages would be insufficientAccordingly, the Disclosing Party has the right to seek an immediate injunction to mitigate or prevent harm caused by a breach of this Agreement, in addition to the right to pursue other remedies available at law or in equity for such a breach': ['REM','GOV','WAR'],\n",
    " 'Governing LawThis Agreement is interpreted and governed by the laws of the State of Utah without giving effect to its conflict of law principlesAny legal action or proceeding arising out of or relating to this Agreement may be instituted in the courts of the State of Utah sitting in Salt Lake County, Utah, and the parties hereto irrevocably submit to the jurisdiction of each such court in any action or proceeding': ['GOV','EXP','RIG'],\n",
    " 'SeverabilityAny provision of this Agreement that is found to be unenforceable will be severed and the remaining terms will be enforced without invalidating the remainder of either the affected provision or this Agreement': ['EXP','TER','REM'],\n",
    " 'Complete AgreementThis Agreement is the complete and exclusive statement regarding handling and protection of________________ConfidentialInformationandsupersedesallprior understandings and communications, whether oral or written': ['RIG','EXP','DEF'],\n",
    " 'TermThis Agreement will remain in effect for one (1) year from the Effective Date, at which time it will terminate; provided, however, that the Receiving Party’s confidentiality obligations as provided hereunder will survive termination for an additional two (2) yearsThis Agreement is accepted and agreed as of August 3, 2022': ['TER','EXP','RIG']}\n"
   ]
  },
  {
   "cell_type": "code",
   "execution_count": 17,
   "metadata": {},
   "outputs": [],
   "source": [
    "paragraphs = list(original_input_dictionary.keys())"
   ]
  },
  {
   "cell_type": "code",
   "execution_count": 18,
   "metadata": {},
   "outputs": [],
   "source": [
    "# Segment paragraph into sentences. \n",
    "nlp = spacy.load(\"en_core_web_sm\")\n",
    "\n",
    "sentences_in_paragraphs = []  \n",
    "\n",
    "# take unicode string  \n",
    "for i in range(len(paragraphs)):\n",
    "    sentences_in_paragraph = nlp(paragraphs[i])\n",
    "\n",
    "    sentencess = list(sentences_in_paragraph.sents)\n",
    "\n",
    "    separated_sentences = []\n",
    "    # list all sentences\n",
    "    for j in range(len(sentencess)):\n",
    "        sentence = sentencess[j].text\n",
    "    \n",
    "    \n",
    "        sentence = sentence.replace('\\n\\n', ' ')\n",
    "        sentences = re.split(r'\\.(?=\\s|$)', sentence)\n",
    "\n",
    "\n",
    "        separated_sentences += sentences\n",
    "\n",
    "    final_separated_sentences = [x for x in separated_sentences if x != '']\n",
    "\n",
    "    sentences_in_paragraphs.append(final_separated_sentences)\n",
    "\n",
    "## sentences_in_paragraphs"
   ]
  },
  {
   "attachments": {},
   "cell_type": "markdown",
   "metadata": {},
   "source": [
    "Create dictionary for dealbreaker catergories and words with each category"
   ]
  },
  {
   "cell_type": "code",
   "execution_count": 19,
   "metadata": {},
   "outputs": [],
   "source": [
    "# Recall in previous section, we have already find synonyms of dealbreaker words and list them. \n",
    "\n",
    "## Parties\n",
    "## unique_synonyms_residuals\n",
    "## unique_synonyms_limitation\n",
    "## unique_synonyms_noncompetition\n",
    "## unique_synonyms_nonsolicitation\n",
    "## unique_synonyms_indemnification\n",
    "## Governing\n",
    "## Exceptions\n",
    "## unique_synonyms_representatives\n",
    "## unique_synonyms_remedies\n",
    "## unique_synonyms_privacy"
   ]
  },
  {
   "cell_type": "code",
   "execution_count": 20,
   "metadata": {},
   "outputs": [],
   "source": [
    "# create a dictionary of sensitive words, grouped them by different categories. \n",
    "\n",
    "dealbreaker_words = {\n",
    "    \"Parties\":Parties,\n",
    "     \"Residuals/Memories\": Residuals,\n",
    "     \"Limitation of Liability\": Limitation,\n",
    "     \"Non-competition\": Noncompetition,\n",
    "     \"Non-solicitation\":Nonsolicitation,\n",
    "     \"Indemnification\": Indemnification,\n",
    "     \"Governing Law/Jurisdiction\":Governing,\n",
    "     \"Exceptions\":Exceptions,\n",
    "     \"Privacy\": Privacy\n",
    "}\n",
    "\n",
    "# The reason why not including remedies and representatives is due to the reason that\n",
    "# their search methods are for existence (recall if they exist, then everything is ok, but if not exist, Warning)"
   ]
  },
  {
   "cell_type": "code",
   "execution_count": 21,
   "metadata": {},
   "outputs": [],
   "source": [
    "# create a dictionary of synonyms of sensitive words, grouped them by different categories. \n",
    "\n",
    "synonyms_dealbreaker_words = {\n",
    "     \"Synonyms of Residuals/Memories\": unique_synonyms_residuals,\n",
    "     \"Synonyms of Limitation of Liability\": unique_synonyms_limitation,\n",
    "     \"Synonyms of Non-competition\": unique_synonyms_noncompetition,\n",
    "     \"Synonyms of Non-solicitation\":unique_synonyms_nonsolicitation,\n",
    "     \"Synonyms of Indemnification\": unique_synonyms_indemnification,\n",
    "     \"Synonyms of Privacy\": unique_synonyms_privacy\n",
    "}\n",
    "\n",
    "# The reason why not including remedies and representatives is due to the reason that\n",
    "# their search methods are for existence (recall if they exist, then everything is ok, but if not exist, Warning)"
   ]
  },
  {
   "cell_type": "code",
   "execution_count": 22,
   "metadata": {},
   "outputs": [],
   "source": [
    "update_dealbreaker_words = {\n",
    "    \"DEF\": Parties ,\n",
    "    \"RIG\": Limitation,\n",
    "    \"EXP\": Exceptions,\n",
    "    \"WAR\": Parties + Residuals + Limitation + Noncompetition + Nonsolicitation + Indemnification + Governing + Exceptions + Privacy,\n",
    "    \"GOV\": Governing,\n",
    "    \"REM\": \"1\",\n",
    "    \"TER\": Parties + Residuals + Limitation + Noncompetition + Nonsolicitation + Indemnification + Governing + Exceptions + Privacy\n",
    "}"
   ]
  },
  {
   "cell_type": "code",
   "execution_count": 23,
   "metadata": {},
   "outputs": [],
   "source": [
    "update_synonyms_dealbreaker_words = {\n",
    "    \"RIG\": unique_synonyms_limitation,\n",
    "    \"WAR\": unique_synonyms_residuals + unique_synonyms_limitation + unique_synonyms_noncompetition + unique_synonyms_nonsolicitation + unique_synonyms_indemnification  + unique_synonyms_privacy,\n",
    "    \"REM\": unique_synonyms_remedies,\n",
    "    \"TER\": unique_synonyms_residuals + unique_synonyms_limitation + unique_synonyms_noncompetition + unique_synonyms_nonsolicitation + unique_synonyms_indemnification  + unique_synonyms_privacy\n",
    "}"
   ]
  },
  {
   "attachments": {},
   "cell_type": "markdown",
   "metadata": {},
   "source": [
    "Find each paragraph's dealbreaker words"
   ]
  },
  {
   "cell_type": "code",
   "execution_count": 24,
   "metadata": {},
   "outputs": [],
   "source": [
    "def find_specific_dealbreakers(input_keys, input_dictionary):\n",
    "    my_dict = {\"new key\":[]}\n",
    "    for i in range(len(list(input_dictionary.keys()))):\n",
    "        for j in range(len(input_keys)):\n",
    "            if input_keys[j] in list(input_dictionary.keys())[i]: \n",
    "                my_dict[\"new key\"] += input_dictionary[list(input_dictionary.keys())[i]]\n",
    "    return my_dict"
   ]
  },
  {
   "attachments": {},
   "cell_type": "markdown",
   "metadata": {},
   "source": [
    "First about dealbreaker words"
   ]
  },
  {
   "cell_type": "code",
   "execution_count": 25,
   "metadata": {},
   "outputs": [],
   "source": [
    "combined_check_list = []\n",
    "\n",
    "for j in range(len(paragraphs)):\n",
    "    #check_list = []\n",
    "\n",
    "    new_dict = find_specific_dealbreakers(list(original_input_dictionary.values())[j], update_dealbreaker_words)\n",
    "\n",
    "    for i in range(len(sentences_in_paragraphs[j])):\n",
    "        sentence = sentences_in_paragraphs[j][i]\n",
    "        # Iterate through the sensitive words grouped by category\n",
    "        for category, words in new_dict.items():\n",
    "            # Use regular expressions to search for the words in the sentence\n",
    "            for word in words:\n",
    "                matches = re.finditer(r'\\b'+word+r'\\b', sentence, re.IGNORECASE)\n",
    "                for match in matches:\n",
    "                    combined_check_list.append(match.group())\n",
    "\n",
    "\n",
    "## combined_check_list"
   ]
  },
  {
   "cell_type": "code",
   "execution_count": 26,
   "metadata": {},
   "outputs": [],
   "source": [
    "combined_check_list_syn = []\n",
    "\n",
    "for j in range(len(paragraphs)):\n",
    "    new_dict = find_specific_dealbreakers(list(original_input_dictionary.values())[j], update_synonyms_dealbreaker_words)\n",
    "\n",
    "    for i in range(len(sentences_in_paragraphs[j])):\n",
    "        sentence = sentences_in_paragraphs[j][i]\n",
    "        # Iterate through the sensitive words grouped by category\n",
    "        for category, words in new_dict.items():\n",
    "            # Use regular expressions to search for the words in the sentence\n",
    "            for word in words:\n",
    "                matches = re.finditer(r'\\b'+word+r'\\b', sentence, re.IGNORECASE)\n",
    "                for match in matches:\n",
    "                    combined_check_list_syn.append(match.group())\n",
    "\n",
    "## combined_check_list_syn"
   ]
  },
  {
   "cell_type": "code",
   "execution_count": 27,
   "metadata": {},
   "outputs": [],
   "source": [
    "# Clean it for unique words, Upper or lower case matters!\n",
    "\n",
    "combined_check_list = list(set(combined_check_list))\n",
    "combined_check_list_syn = list(set(combined_check_list_syn))\n",
    "\n",
    "## combined_check_list\n",
    "## combined_check_list_syn"
   ]
  },
  {
   "attachments": {},
   "cell_type": "markdown",
   "metadata": {},
   "source": [
    "Then, about representative and rememdies. <br>\n",
    "Here we need to find out whether they exist or not."
   ]
  },
  {
   "cell_type": "code",
   "execution_count": 28,
   "metadata": {},
   "outputs": [],
   "source": [
    "# Representatives\n",
    "representative_warning = True\n",
    "\n",
    "for j in range(len(original_input_dictionary)):\n",
    "\n",
    "    for i in range(len(sentences_in_paragraphs[j])):\n",
    "        sentence = sentences_in_paragraphs[j][i]\n",
    "        \n",
    "        for word in Representatives:\n",
    "            \n",
    "            if word in sentence:\n",
    "                representative_warning = False\n",
    "                ## print(f\"Found '{word}' in sentence: {sentence}\")\n",
    "                break\n",
    "        \n",
    "        else:\n",
    "            continue\n",
    "\n",
    "        break\n",
    "    \n",
    "\n",
    "\n",
    "##representative_warning"
   ]
  },
  {
   "cell_type": "code",
   "execution_count": 29,
   "metadata": {},
   "outputs": [],
   "source": [
    "# Remedies\n",
    "remedies_warning = True\n",
    "\n",
    "for j in range(len(paragraphs)):\n",
    "\n",
    "    for i in range(len(sentences_in_paragraphs[j])):\n",
    "        sentence = sentences_in_paragraphs[j][i]\n",
    "        \n",
    "        for word in Remedies:\n",
    "            if word in sentence:\n",
    "                remedies_warning = False\n",
    "                ## print(f\"Found '{word}' in sentence: {sentence}\")\n",
    "                break\n",
    "        else:\n",
    "            continue\n",
    "\n",
    "        break\n"
   ]
  },
  {
   "cell_type": "code",
   "execution_count": 30,
   "metadata": {},
   "outputs": [],
   "source": [
    "# Representatives Synonyms\n",
    "syn_representative_warning = True\n",
    "\n",
    "for j in range(len(paragraphs)):\n",
    "\n",
    "    for i in range(len(sentences_in_paragraphs[j])):\n",
    "        sentence = sentences_in_paragraphs[j][i]\n",
    "\n",
    "        for word in unique_synonyms_representatives:\n",
    "            if word in sentence:\n",
    "                syn_representative_warning = False\n",
    "                ## print(f\"Found '{word}' in sentence: {sentence}\")\n",
    "                break\n",
    "        else:\n",
    "            continue\n",
    "\n",
    "        break\n",
    "\n",
    "\n",
    "\n",
    "if representative_warning == False:\n",
    "    syn_representative_warning == False"
   ]
  },
  {
   "cell_type": "code",
   "execution_count": 31,
   "metadata": {},
   "outputs": [],
   "source": [
    "# Synonyms Remedies\n",
    "syn_remedies_warning = True\n",
    "\n",
    "for j in range(len(paragraphs)):\n",
    "\n",
    "    for i in range(len(sentences_in_paragraphs[j])):\n",
    "        sentence = sentences_in_paragraphs[j][i]\n",
    "\n",
    "        for word in unique_synonyms_remedies:\n",
    "            if word in sentence:\n",
    "                syn_remedies_warning = False\n",
    "                ## print(f\"Found '{word}' in sentence: {sentence}\")\n",
    "                break\n",
    "        else:\n",
    "            continue\n",
    "\n",
    "        break\n",
    "\n",
    "\n",
    "\n",
    "if remedies_warning == False:\n",
    "    syn_remedies_warning == False"
   ]
  },
  {
   "attachments": {},
   "cell_type": "markdown",
   "metadata": {},
   "source": [
    "Export Stage"
   ]
  },
  {
   "attachments": {},
   "cell_type": "markdown",
   "metadata": {},
   "source": [
    "Trial"
   ]
  },
  {
   "cell_type": "code",
   "execution_count": 32,
   "metadata": {},
   "outputs": [],
   "source": [
    "##           ###           ##  EEEEEEEEEEEEEEEE      III\n",
    " ##         ## ##         ##   E                     III\n",
    "  ##       ##   ##       ##    E                     III\n",
    "   ##     ##     ##     ##     EEEEEEEEEEEEEEE       III\n",
    "    ##   ##       ##   ##      E                     III\n",
    "     ## ##         ## ##       E                     III\n",
    "      ##            ##         EEEEEEEEEEEEEEEE      III"
   ]
  },
  {
   "cell_type": "code",
   "execution_count": 33,
   "metadata": {},
   "outputs": [],
   "source": [
    "# Import document again!\n",
    "# 改这个地方你的输入路径哦 要docx，前面的 r 和中间\\\\不要动，重要\n",
    "doc=docx.Document(r'C:\\\\Users\\\\dell-pc\\\\Desktop\\NDA.docx')"
   ]
  },
  {
   "cell_type": "code",
   "execution_count": 34,
   "metadata": {},
   "outputs": [],
   "source": [
    "def find_key_by_value(value, dictionary):\n",
    "    keys = []\n",
    "    for key, val in dictionary.items():\n",
    "        if isinstance(val, list):\n",
    "            if any(v.lower() == value.lower() for v in val):\n",
    "                keys.append(key)\n",
    "        elif val.lower() == value.lower():\n",
    "            keys.append(key)\n",
    "    return keys if keys else None  # if value is not found in any key"
   ]
  },
  {
   "attachments": {},
   "cell_type": "markdown",
   "metadata": {},
   "source": [
    "Giving comment on dealbreaker words"
   ]
  },
  {
   "cell_type": "code",
   "execution_count": 35,
   "metadata": {},
   "outputs": [],
   "source": [
    "def split_text(text, word):\n",
    "    pattern = re.compile(r'([\\S\\s]*)(\\b{})([\\S\\s]*)'.format(word))\n",
    "    match = pattern.search(text)\n",
    "    if match:\n",
    "        return match.groups()\n",
    "    return None\n",
    "\n",
    "def split_Runs(doc,word):\n",
    "    for p in doc.paragraphs:\n",
    "        if p.text.find(word) != -1:\n",
    "            virtualRuns=p.runs\n",
    "            p.text = \"\"\n",
    "            for r in virtualRuns:\n",
    "                if r.text.find(word) != -1:\n",
    "                    before, word, after = split_text(r.text, word)\n",
    "                    p.add_run(before)\n",
    "                    p.add_run()\n",
    "                    p.add_run(word)\n",
    "                    p.add_run(after)\n",
    "                else:\n",
    "                    p.add_run(r.text)\n",
    "    return doc\n",
    "\n",
    "\n",
    "\n",
    "def style_Token2(doc,word,list1, dictionary1,dictionary2, comment=True):\n",
    "    for p in doc.paragraphs:\n",
    "        for i,r in enumerate(p.runs):\n",
    "            if word in list1:\n",
    "                if p.runs[i].text.find(word) != -1:\n",
    "                    p.runs[i].font.highlight_color = WD_COLOR_INDEX.RED\n",
    "                    if comment:\n",
    "                        corresponded_key = find_key_by_value(word,dictionary1)\n",
    "                        p.runs[i-1].add_comment(f'Wanring: \\\"{word}\\\" is classified as a category {corresponded_key} dealbreaker word.\\nStrongly Advice its Immediate Removal',author=\"DG1\")\n",
    "            else:\n",
    "                if p.runs[i].text.find(word) != -1:\n",
    "                    p.runs[i].font.highlight_color = WD_COLOR_INDEX.YELLOW\n",
    "                    if comment:\n",
    "                        corresponded_key = find_key_by_value(word,dictionary2)\n",
    "                        p.runs[i-1].add_comment(f'Suggestion: \\\"{word}\\\" is a synonym of dealbreaker word belonging to category {corresponded_key}. We Recommend that you carefully evaluate its usage before considering its reintroduction.',author=\"DG1\")\n",
    "\n",
    "    return doc\n",
    "\n",
    "\n",
    "\n",
    "dealbreaker_and_syn_list = combined_check_list + combined_check_list_syn\n",
    "dealbreaker_and_syn_list = list(set(dealbreaker_and_syn_list))\n",
    "dealbreaker_and_syn_list\n",
    "\n",
    "for keyword in dealbreaker_and_syn_list:\n",
    "    doc=split_Runs(doc,keyword)    \n",
    "\n",
    "for keyword in dealbreaker_and_syn_list:\n",
    "    doc=style_Token2(doc,keyword,combined_check_list, dealbreaker_words, synonyms_dealbreaker_words,True)"
   ]
  },
  {
   "attachments": {},
   "cell_type": "markdown",
   "metadata": {},
   "source": [
    "Giving Comment on Representative and Remedies <br>\n",
    "if they exist, nothing will happen <br>\n",
    "if they do not exist, output a warning comment"
   ]
  },
  {
   "cell_type": "code",
   "execution_count": 36,
   "metadata": {},
   "outputs": [],
   "source": [
    "def check_existence_for_remedy_representative(doc,warning_1 = True, warning_2 = True, warning_3 = True, warning_4 = True):\n",
    "    if warning_1:\n",
    "        paragraph1 = doc.add_paragraph()\n",
    "        comment1 = paragraph1.add_comment(\"Warning: This document is lack of Representative Category information\", author = 'DG1')\n",
    "    if warning_2:\n",
    "        paragraph2 = doc.add_paragraph()\n",
    "        comment2 = paragraph2.add_comment(\"Warning: This document is lack of Remedy Category information\",author = 'DG1')\n",
    "    if warning_3:\n",
    "        paragraph3 = doc.add_paragraph()\n",
    "        comment3 = paragraph3.add_comment(\"Suggested Warning: This document is lack of synonyms of Representative Category information\", author = 'DG1')\n",
    "    if warning_4:\n",
    "        paragraph4 = doc.add_paragraph()\n",
    "        comment4 = paragraph4.add_comment(\"Suggested Warning: This document is lack of synonyms of Remedy Category information\",author = 'DG1')\n",
    "\n",
    "\n",
    "    return doc\n",
    "\n"
   ]
  },
  {
   "cell_type": "code",
   "execution_count": 37,
   "metadata": {},
   "outputs": [],
   "source": [
    "doc = check_existence_for_remedy_representative(doc,representative_warning,remedies_warning,syn_representative_warning, syn_remedies_warning)"
   ]
  },
  {
   "attachments": {},
   "cell_type": "markdown",
   "metadata": {},
   "source": [
    "Output Path 输出路径"
   ]
  },
  {
   "cell_type": "code",
   "execution_count": 38,
   "metadata": {},
   "outputs": [],
   "source": [
    "##           ###           ##  EEEEEEEEEEEEEEEE      III\n",
    " ##         ## ##         ##   E                     III\n",
    "  ##       ##   ##       ##    E                     III\n",
    "   ##     ##     ##     ##     EEEEEEEEEEEEEEE       III\n",
    "    ##   ##       ##   ##      E                     III\n",
    "     ## ##         ## ##       E                     III\n",
    "      ##            ##         EEEEEEEEEEEEEEEE      III"
   ]
  },
  {
   "cell_type": "code",
   "execution_count": 39,
   "metadata": {},
   "outputs": [],
   "source": [
    "# 这个地方要记得改哦， 还是别动r和docx还有\\\\\n",
    "doc.save(r'C:\\\\Users\\dell-pc\\\\Desktop\\\\Revised_NDA.docx')"
   ]
  },
  {
   "cell_type": "code",
   "execution_count": 40,
   "metadata": {},
   "outputs": [],
   "source": [
    "end_time = time.time()"
   ]
  },
  {
   "cell_type": "code",
   "execution_count": 41,
   "metadata": {},
   "outputs": [],
   "source": [
    "total_time = end_time - start_time"
   ]
  },
  {
   "cell_type": "code",
   "execution_count": 42,
   "metadata": {},
   "outputs": [
    {
     "name": "stdout",
     "output_type": "stream",
     "text": [
      "Total time taken: 7.19 seconds\n"
     ]
    }
   ],
   "source": [
    "print(f\"Total time taken: {total_time:.2f} seconds\")"
   ]
  }
 ],
 "metadata": {
  "kernelspec": {
   "display_name": "base",
   "language": "python",
   "name": "python3"
  },
  "language_info": {
   "codemirror_mode": {
    "name": "ipython",
    "version": 3
   },
   "file_extension": ".py",
   "mimetype": "text/x-python",
   "name": "python",
   "nbconvert_exporter": "python",
   "pygments_lexer": "ipython3",
   "version": "3.9.13"
  },
  "orig_nbformat": 4
 },
 "nbformat": 4,
 "nbformat_minor": 2
}
