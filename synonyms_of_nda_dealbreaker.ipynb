{
 "cells": [
  {
   "cell_type": "code",
   "execution_count": 1,
   "metadata": {},
   "outputs": [],
   "source": [
    "# Find Synonyms of words in dealbreaker words list\n",
    "import nltk\n",
    "from nltk.corpus import wordnet"
   ]
  },
  {
   "cell_type": "code",
   "execution_count": 13,
   "metadata": {},
   "outputs": [
    {
     "name": "stderr",
     "output_type": "stream",
     "text": [
      "[nltk_data] Downloading package wordnet to C:\\Users\\dell-\n",
      "[nltk_data]     pc\\AppData\\Roaming\\nltk_data...\n"
     ]
    },
    {
     "data": {
      "text/plain": [
       "True"
      ]
     },
     "execution_count": 13,
     "metadata": {},
     "output_type": "execute_result"
    }
   ],
   "source": [
    "# nltk.download('wordnet')\n",
    "# nltk.download('omw-1.4')\n",
    "# 看你有没有"
   ]
  },
  {
   "cell_type": "code",
   "execution_count": 14,
   "metadata": {},
   "outputs": [],
   "source": [
    "def get_synonyms(word):\n",
    "    synonyms = []\n",
    "    for syn in wordnet.synsets(word):\n",
    "        for lemma in syn.lemmas():\n",
    "            synonyms.append(lemma.name())\n",
    "    return synonyms"
   ]
  },
  {
   "cell_type": "code",
   "execution_count": 8,
   "metadata": {},
   "outputs": [],
   "source": [
    "# Parties \n",
    "\n",
    "Parties = [\"Unilateral\", \"One-Way\", \"One Way\", \"company (\\\"Disclosing Party\\\")\", \"company (\\\"Discloser\\\")\", \"corporation (\\\"Disclosing Party\\\")\", \"corporation (\\\"Discloser\\\")\",  \"LLC (\\\"Disclosing Party\\\")\", \"LLC (\\\"Discloser\\\")\",  \"Inc. (\\\"Disclosing Party\\\")\", \"Inc. (\\\"Discloser\\\")\",  \"Incorporated (\\\"Disclosing Party\\\")\", \"Incorporated (\\\"Discloser\\\")\", \"Co. (\\\"Disclosing Party\\\")\", \"Co. (\\\"Discloser\\\")\"]\n",
    "\n",
    "# 这块我不找同义词了，我觉得没有"
   ]
  },
  {
   "cell_type": "code",
   "execution_count": 19,
   "metadata": {},
   "outputs": [
    {
     "name": "stderr",
     "output_type": "stream",
     "text": [
      "[nltk_data] Downloading package omw-1.4 to C:\\Users\\dell-\n",
      "[nltk_data]     pc\\AppData\\Roaming\\nltk_data...\n"
     ]
    },
    {
     "data": {
      "text/plain": [
       "True"
      ]
     },
     "execution_count": 19,
     "metadata": {},
     "output_type": "execute_result"
    }
   ],
   "source": []
  },
  {
   "cell_type": "code",
   "execution_count": 26,
   "metadata": {},
   "outputs": [
    {
     "data": {
      "text/plain": [
       "['retentiveness',\n",
       " 'memory_board',\n",
       " 'remembering',\n",
       " 'computer_storage',\n",
       " 'residual',\n",
       " 'unaided',\n",
       " 'rest',\n",
       " 'retention',\n",
       " 'residuum',\n",
       " 'computer_memory',\n",
       " 'store',\n",
       " 'remainder',\n",
       " 'retentivity',\n",
       " 'residuary',\n",
       " 'balance',\n",
       " 'storage',\n",
       " 'residue',\n",
       " 'memory',\n",
       " 'residual',\n",
       " 'residuals',\n",
       " 'memories',\n",
       " 'unaided',\n",
       " 'memory']"
      ]
     },
     "execution_count": 26,
     "metadata": {},
     "output_type": "execute_result"
    }
   ],
   "source": [
    "# Residuals/ Memories\n",
    "\n",
    "Residuals = [\"residual\", \"residuals\", \"memories\", \"unaided\", \"memory\"]\n",
    "\n",
    "# find synonyms\n",
    "synonyms_residuals = []\n",
    "for word in Residuals:\n",
    "    synonyms_residuals.append(get_synonyms(word))\n",
    "\n",
    "# synonyms_residuals\n",
    "\n",
    "# combined sublists into one list\n",
    "combined_synonyms_residuals = []\n",
    "for sublst in synonyms_residuals:\n",
    "    combined_synonyms_residuals.extend(sublst)\n",
    "\n",
    "# unique words, some have repeated words\n",
    "unique_synonyms_residuals = list(set(combined_synonyms_residuals))\n",
    "unique_synonyms_residuals.extend(Residuals)\n",
    "unique_synonyms_residuals"
   ]
  },
  {
   "cell_type": "code",
   "execution_count": 29,
   "metadata": {},
   "outputs": [
    {
     "data": {
      "text/plain": [
       "['exemplary',\n",
       " 'punitive',\n",
       " 'resultant',\n",
       " 'accompanying',\n",
       " 'incidental_expense',\n",
       " 'incidental',\n",
       " 'collateral',\n",
       " 'monitory',\n",
       " 'minor_expense',\n",
       " 'consequential',\n",
       " 'punitory',\n",
       " 'sequent',\n",
       " 'eventful',\n",
       " 'admonitory',\n",
       " 'incident',\n",
       " 'warning',\n",
       " 'indirect',\n",
       " 'consequent',\n",
       " 'attendant',\n",
       " 'cautionary',\n",
       " 'concomitant',\n",
       " 'ensuant',\n",
       " 'emblematic',\n",
       " 'typic',\n",
       " 'model',\n",
       " 'nonessential',\n",
       " 'Limitation of Liability',\n",
       " 'under no circumstances',\n",
       " 'shall be limited',\n",
       " 'special, incidental, indirect or consequential damages',\n",
       " 'punitive',\n",
       " 'exemplary',\n",
       " 'consequential',\n",
       " 'indirect',\n",
       " 'incidental']"
      ]
     },
     "execution_count": 29,
     "metadata": {},
     "output_type": "execute_result"
    }
   ],
   "source": [
    "# Limitation of Liability\n",
    "\n",
    "Limitation = [\"Limitation of Liability\", \"under no circumstances\", \"shall be limited\", \"special, incidental, indirect or consequential damages\", \"punitive\",\"exemplary\",\"consequential\",\"indirect\",\"incidental\"]\n",
    "words_in_limitation = [\"punitive\",\"exemplary\",\"consequential\",\"indirect\",\"incidental\"]\n",
    "\n",
    "# find synonyms\n",
    "synonyms_limitation = []\n",
    "for word in words_in_limitation:\n",
    "    synonyms_limitation.append(get_synonyms(word))\n",
    "\n",
    "# synonyms_limitation\n",
    "\n",
    "# combined sublists into one list\n",
    "combined_synonyms_limitation = []\n",
    "for sublst in synonyms_limitation:\n",
    "    combined_synonyms_limitation.extend(sublst)\n",
    "\n",
    "# unique words, some have repeated words\n",
    "unique_synonyms_limitation = list(set(combined_synonyms_limitation))\n",
    "unique_synonyms_limitation.extend(Limitation)\n",
    "unique_synonyms_limitation"
   ]
  },
  {
   "cell_type": "code",
   "execution_count": 35,
   "metadata": {},
   "outputs": [
    {
     "data": {
      "text/plain": [
       "['competition',\n",
       " 'contender',\n",
       " 'contest',\n",
       " 'challenger',\n",
       " 'vie',\n",
       " 'rival',\n",
       " 'contention',\n",
       " 'rivalry',\n",
       " 'compete',\n",
       " 'contend',\n",
       " 'competitor',\n",
       " 'compete',\n",
       " 'competition',\n",
       " 'non-compete',\n",
       " 'non-competition',\n",
       " 'non compete',\n",
       " 'non competition']"
      ]
     },
     "execution_count": 35,
     "metadata": {},
     "output_type": "execute_result"
    }
   ],
   "source": [
    "# Non-competition\n",
    "\n",
    "Noncompetition = [\"compete\", \"competition\", \"non-compete\", \"non-competition\", \"non compete\", \"non competition\" ]\n",
    "\n",
    "# find synonyms\n",
    "synonyms_noncompetition = []\n",
    "for word in Noncompetition:\n",
    "    synonyms_noncompetition.append(get_synonyms(word))\n",
    "\n",
    "# synonyms_noncompetition\n",
    "\n",
    "# combined sublists into one list\n",
    "combined_synonyms_noncompetition = []\n",
    "for sublst in synonyms_noncompetition:\n",
    "    combined_synonyms_noncompetition.extend(sublst)\n",
    "\n",
    "# unique words, some have repeated words\n",
    "unique_synonyms_noncompetition = list(set(combined_synonyms_noncompetition))\n",
    "unique_synonyms_noncompetition.extend(Noncompetition)\n",
    "unique_synonyms_noncompetition"
   ]
  },
  {
   "cell_type": "code",
   "execution_count": 34,
   "metadata": {},
   "outputs": [
    {
     "data": {
      "text/plain": [
       "['court',\n",
       " 'romance',\n",
       " 'solicit',\n",
       " 'tap',\n",
       " 'beg',\n",
       " 'hook',\n",
       " 'woo',\n",
       " 'accost',\n",
       " 'non-solicitation',\n",
       " 'solicit',\n",
       " 'non-solicit',\n",
       " 'non-servicing',\n",
       " 'nonsolicitation',\n",
       " 'nonsolicit',\n",
       " 'nonservicing',\n",
       " 'solicit',\n",
       " 'non solicitation',\n",
       " 'non solicit',\n",
       " 'non servicing',\n",
       " 'no solicit',\n",
       " 'no-solicit']"
      ]
     },
     "execution_count": 34,
     "metadata": {},
     "output_type": "execute_result"
    }
   ],
   "source": [
    "# Non-solicitation\n",
    "\n",
    "Nonsolicitation = [\"non-solicitation\", \"solicit\", \"non-solicit\", \"non-servicing\",   \"nonsolicitation\", \"nonsolicit\", \"nonservicing\",  \"solicit\",  \"non solicitation\", \"non solicit\", \"non servicing\",  \"no solicit\", \"no-solicit\"]\n",
    "\n",
    "# find synonyms\n",
    "synonyms_nonsolicitation = []\n",
    "for word in Nonsolicitation:\n",
    "    synonyms_nonsolicitation.append(get_synonyms(word))\n",
    "\n",
    "# synonyms_nonsolicitation\n",
    "\n",
    "# combined sublists into one list\n",
    "combined_synonyms_nonsolicitation = []\n",
    "for sublst in synonyms_nonsolicitation:\n",
    "    combined_synonyms_nonsolicitation.extend(sublst)\n",
    "\n",
    "# unique words, some have repeated words\n",
    "unique_synonyms_nonsolicitation = list(set(combined_synonyms_nonsolicitation))\n",
    "unique_synonyms_nonsolicitation.extend(Nonsolicitation)\n",
    "unique_synonyms_nonsolicitation"
   ]
  },
  {
   "cell_type": "code",
   "execution_count": 33,
   "metadata": {},
   "outputs": [
    {
     "data": {
      "text/plain": [
       "['represent',\n",
       " 'champion',\n",
       " 'support',\n",
       " 'recompense',\n",
       " 'insurance',\n",
       " 'guard',\n",
       " 'repair',\n",
       " 'hold',\n",
       " 'damages',\n",
       " 'fight',\n",
       " 'indemnification',\n",
       " 'amends',\n",
       " 'maintain',\n",
       " 'oppose',\n",
       " 'indemnity',\n",
       " 'fight_back',\n",
       " 'indemnify',\n",
       " 'defend',\n",
       " 'redress',\n",
       " 'fend_for',\n",
       " 'restitution',\n",
       " 'fight_down',\n",
       " 'compensate',\n",
       " 'indemnification',\n",
       " 'indemnity',\n",
       " 'hold-harmless',\n",
       " 'hold harmless',\n",
       " 'indemnify',\n",
       " 'indemnified',\n",
       " 'indemnifying',\n",
       " 'defend']"
      ]
     },
     "execution_count": 33,
     "metadata": {},
     "output_type": "execute_result"
    }
   ],
   "source": [
    "# Indemnification\n",
    "\n",
    "Indemnification = [\"indemnification\", \"indemnity\", \"hold-harmless\", \"hold harmless\", \"indemnify\", \"indemnified\", \"indemnifying\", \"defend\"]\n",
    "\n",
    "# find synonyms\n",
    "synonyms_indemnification = []\n",
    "for word in Indemnification:\n",
    "    synonyms_indemnification.append(get_synonyms(word))\n",
    "\n",
    "# synonyms_indemnification\n",
    "\n",
    "# combined sublists into one list\n",
    "combined_synonyms_indemnification = []\n",
    "for sublst in synonyms_indemnification:\n",
    "    combined_synonyms_indemnification.extend(sublst)\n",
    "\n",
    "# unique words, some have repeated words\n",
    "unique_synonyms_indemnification = list(set(combined_synonyms_indemnification))\n",
    "unique_synonyms_indemnification.extend(Indemnification)\n",
    "unique_synonyms_indemnification"
   ]
  },
  {
   "cell_type": "code",
   "execution_count": null,
   "metadata": {},
   "outputs": [],
   "source": [
    "# Governing Law/ Jurisdiction\n",
    "\n",
    "# 不变 仨地名没啥意义\n",
    "\n",
    "Governing = [\"Texas\", \"Italy\", \"Italian\"]"
   ]
  },
  {
   "cell_type": "code",
   "execution_count": null,
   "metadata": {},
   "outputs": [],
   "source": [
    "# Exceptions\n",
    "\n",
    "# 不变， 全是line\n",
    "Exceptions =  [\"was communicated by Disclosing Party to an unaffiliated third party free of any obligation of confidence\",   \"was communicated by Disclosing Party to a third party free of any obligation of confidence\", \"was communicated by Disclosing Party to  a third party without an obligation of confidence\", \"was disclosed by Disclosing Party to  a third party without an obligation of confidence\", \" was disclosed by Discloser to a third party without an obligation of confidentiality\"]"
   ]
  },
  {
   "cell_type": "code",
   "execution_count": 31,
   "metadata": {},
   "outputs": [
    {
     "data": {
      "text/plain": [
       "['nonimmune',\n",
       " 'responsible',\n",
       " 'nonresistant',\n",
       " 'creditworthy',\n",
       " 'liable',\n",
       " 'responsible_for',\n",
       " 'unresistant',\n",
       " 'apt',\n",
       " 'responsible',\n",
       " 'liable']"
      ]
     },
     "execution_count": 31,
     "metadata": {},
     "output_type": "execute_result"
    }
   ],
   "source": [
    "# Representatives\n",
    "\n",
    "# 这个是找存在合理， 不存在就错\n",
    "\n",
    "Representatives = [\"responsible\", \"liable\"]\n",
    "\n",
    "# find synonyms\n",
    "synonyms_representatives = []\n",
    "for word in Representatives:\n",
    "    synonyms_representatives.append(get_synonyms(word))\n",
    "\n",
    "# synonyms_representatives\n",
    "\n",
    "# combined sublists into one list\n",
    "combined_synonyms_representatives = []\n",
    "for sublst in synonyms_representatives:\n",
    "    combined_synonyms_representatives.extend(sublst)\n",
    "\n",
    "# unique words, some have repeated words\n",
    "unique_synonyms_representatives = list(set(combined_synonyms_representatives))\n",
    "unique_synonyms_representatives.extend(Representatives)\n",
    "unique_synonyms_representatives\n"
   ]
  },
  {
   "cell_type": "code",
   "execution_count": 32,
   "metadata": {},
   "outputs": [
    {
     "data": {
      "text/plain": [
       "['enjoinment',\n",
       " 'just',\n",
       " 'cease_and_desist_order',\n",
       " 'equitable',\n",
       " 'enjoining',\n",
       " 'injunction',\n",
       " 'injunction',\n",
       " 'injunctive',\n",
       " 'equitable']"
      ]
     },
     "execution_count": 32,
     "metadata": {},
     "output_type": "execute_result"
    }
   ],
   "source": [
    "# Remedies\n",
    "\n",
    "# 也是 存在合理，不存在不合理\n",
    "Remedies = [\"injunction\", \"injunctive\",\"equitable\"]\n",
    "\n",
    "# find synonyms\n",
    "synonyms_remedies = []\n",
    "for word in Remedies:\n",
    "    synonyms_remedies.append(get_synonyms(word))\n",
    "\n",
    "# synonyms_remedies\n",
    "\n",
    "# combined sublists into one list\n",
    "combined_synonyms_remedies = []\n",
    "for sublst in synonyms_remedies:\n",
    "    combined_synonyms_remedies.extend(sublst)\n",
    "\n",
    "# unique words, some have repeated words\n",
    "unique_synonyms_remedies = list(set(combined_synonyms_remedies))\n",
    "unique_synonyms_remedies.extend(Remedies)\n",
    "unique_synonyms_remedies"
   ]
  },
  {
   "cell_type": "code",
   "execution_count": 30,
   "metadata": {},
   "outputs": [
    {
     "data": {
      "text/plain": [
       "['concealment',\n",
       " 'privacy',\n",
       " 'seclusion',\n",
       " 'secrecy',\n",
       " 'privateness',\n",
       " 'Personal Data',\n",
       " 'Personal Information',\n",
       " 'PII',\n",
       " 'GDPR',\n",
       " 'CCPA',\n",
       " 'CPRA',\n",
       " 'Privacy']"
      ]
     },
     "execution_count": 30,
     "metadata": {},
     "output_type": "execute_result"
    }
   ],
   "source": [
    "# Privacy / Personal Information\n",
    "Privacy = [\"Personal Data\", \"Personal Information\",\"PII\", \"GDPR\", \"CCPA\", \"CPRA\", \"Privacy\"]\n",
    "words_in_privacy = [\"Privacy\"]\n",
    "\n",
    "# find synonyms\n",
    "synonyms_privacy = []\n",
    "for word in words_in_privacy:\n",
    "    synonyms_privacy.append(get_synonyms(word))\n",
    "\n",
    "# synonyms_privacy\n",
    "\n",
    "# combined sublists into one list\n",
    "combined_synonyms_privacy = []\n",
    "for sublst in synonyms_privacy:\n",
    "    combined_synonyms_privacy.extend(sublst)\n",
    "\n",
    "# unique words, some have repeated words\n",
    "unique_synonyms_privacy = list(set(combined_synonyms_privacy))\n",
    "unique_synonyms_privacy.extend(Privacy)\n",
    "unique_synonyms_privacy"
   ]
  }
 ],
 "metadata": {
  "kernelspec": {
   "display_name": "base",
   "language": "python",
   "name": "python3"
  },
  "language_info": {
   "codemirror_mode": {
    "name": "ipython",
    "version": 3
   },
   "file_extension": ".py",
   "mimetype": "text/x-python",
   "name": "python",
   "nbconvert_exporter": "python",
   "pygments_lexer": "ipython3",
   "version": "3.9.13"
  },
  "orig_nbformat": 4,
  "vscode": {
   "interpreter": {
    "hash": "3a596c01fbd375c02cbd8f063d934d64bec48590251991d1848d8d257727bfba"
   }
  }
 },
 "nbformat": 4,
 "nbformat_minor": 2
}
