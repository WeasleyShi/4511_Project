{
 "cells": [
  {
   "cell_type": "code",
   "execution_count": 68,
   "metadata": {},
   "outputs": [],
   "source": [
    "# required packages\n",
    "\n",
    "# nltk.download('wordnet')\n",
    "\n",
    "# nltk.download('omw-1.4')\n",
    "\n",
    "# pip install python-docx\n"
   ]
  },
  {
   "cell_type": "code",
   "execution_count": 69,
   "metadata": {},
   "outputs": [],
   "source": [
    "# Required import\n",
    "import nltk\n",
    "from nltk.corpus import wordnet\n",
    "\n",
    "import docx2txt\n",
    "import spacy\n",
    "import re\n",
    "from docx import Document\n",
    "\n",
    "from docx.shared import RGBColor\n",
    "from docx.oxml import OxmlElement\n",
    "from docx.oxml.ns import qn\n",
    "\n",
    "import docx\n",
    "from docx.enum.text import WD_COLOR_INDEX\n"
   ]
  },
  {
   "attachments": {},
   "cell_type": "markdown",
   "metadata": {},
   "source": [
    "Find Synonyms of words in dealbreaker words list"
   ]
  },
  {
   "cell_type": "code",
   "execution_count": 70,
   "metadata": {},
   "outputs": [],
   "source": [
    "# create function to find synonyms from the dealbreaker words list\n",
    "\n",
    "def get_synonyms(word):\n",
    "    synonyms = []\n",
    "    for syn in wordnet.synsets(word):\n",
    "        for lemma in syn.lemmas():\n",
    "            synonyms.append(lemma.name())\n",
    "    return synonyms"
   ]
  },
  {
   "cell_type": "code",
   "execution_count": 71,
   "metadata": {},
   "outputs": [],
   "source": [
    "# Already existed words in Parties \n",
    "\n",
    "Parties = [\"Unilateral\", \"One-Way\", \"One Way\", \"company (\\\"Disclosing Party\\\")\", \"company (\\\"Discloser\\\")\", \"corporation (\\\"Disclosing Party\\\")\", \"corporation (\\\"Discloser\\\")\",  \"LLC (\\\"Disclosing Party\\\")\", \"LLC (\\\"Discloser\\\")\",  \"Inc. (\\\"Disclosing Party\\\")\", \"Inc. (\\\"Discloser\\\")\",  \"Incorporated (\\\"Disclosing Party\\\")\", \"Incorporated (\\\"Discloser\\\")\", \"Co. (\\\"Disclosing Party\\\")\", \"Co. (\\\"Discloser\\\")\"]\n",
    "\n",
    "# No change because these words really do not have synonyms"
   ]
  },
  {
   "cell_type": "code",
   "execution_count": 72,
   "metadata": {},
   "outputs": [],
   "source": [
    "# Already existed words in Residuals/ Memories\n",
    "\n",
    "Residuals = [\"residual\", \"residuals\", \"memories\", \"unaided\", \"memory\"]\n",
    "\n",
    "# find synonyms\n",
    "synonyms_residuals = []\n",
    "for word in Residuals:\n",
    "    synonyms_residuals.append(get_synonyms(word))\n",
    "\n",
    "## synonyms_residuals\n",
    "\n",
    "# since each word in Residuals will generate a list of its synonyms,\n",
    "# # hence, combine these sublists into one list\n",
    "combined_synonyms_residuals = []\n",
    "for sublst in synonyms_residuals:\n",
    "    combined_synonyms_residuals.extend(sublst)\n",
    "\n",
    "# clean the list to only pick up unique words, since some words' synonyms may be repeated\n",
    "unique_synonyms_residuals = list(set(combined_synonyms_residuals))\n",
    "unique_synonyms_residuals.extend(Residuals)\n",
    "## unique_synonyms_residuals"
   ]
  },
  {
   "cell_type": "code",
   "execution_count": 73,
   "metadata": {},
   "outputs": [],
   "source": [
    "# Arealdy existed words in Limitation of Liability\n",
    "\n",
    "Limitation = [\"Limitation of Liability\", \"under no circumstances\", \"shall be limited\", \"special, incidental, indirect or consequential damages\", \"punitive\",\"exemplary\",\"consequential\",\"indirect\",\"incidental\"]\n",
    "words_in_limitation = [\"punitive\",\"exemplary\",\"consequential\",\"indirect\",\"incidental\"]\n",
    "\n",
    "# find synonyms\n",
    "synonyms_limitation = []\n",
    "for word in words_in_limitation:\n",
    "    synonyms_limitation.append(get_synonyms(word))\n",
    "\n",
    "## synonyms_limitation\n",
    "\n",
    "# combined sublists into one list\n",
    "combined_synonyms_limitation = []\n",
    "for sublst in synonyms_limitation:\n",
    "    combined_synonyms_limitation.extend(sublst)\n",
    "\n",
    "# unique words, some have repeated words\n",
    "unique_synonyms_limitation = list(set(combined_synonyms_limitation))\n",
    "unique_synonyms_limitation.extend(Limitation)\n",
    "## unique_synonyms_limitation"
   ]
  },
  {
   "cell_type": "code",
   "execution_count": 74,
   "metadata": {},
   "outputs": [],
   "source": [
    "# Already existed words in Non-competition\n",
    "\n",
    "Noncompetition = [\"compete\", \"competition\", \"non-compete\", \"non-competition\", \"non compete\", \"non competition\" ]\n",
    "\n",
    "# find synonyms\n",
    "synonyms_noncompetition = []\n",
    "for word in Noncompetition:\n",
    "    synonyms_noncompetition.append(get_synonyms(word))\n",
    "\n",
    "## synonyms_noncompetition\n",
    "\n",
    "# combined sublists into one list\n",
    "combined_synonyms_noncompetition = []\n",
    "for sublst in synonyms_noncompetition:\n",
    "    combined_synonyms_noncompetition.extend(sublst)\n",
    "\n",
    "# unique words, some have repeated words\n",
    "unique_synonyms_noncompetition = list(set(combined_synonyms_noncompetition))\n",
    "unique_synonyms_noncompetition.extend(Noncompetition)\n",
    "## unique_synonyms_noncompetition"
   ]
  },
  {
   "cell_type": "code",
   "execution_count": 75,
   "metadata": {},
   "outputs": [],
   "source": [
    "# Already existed words in Non-solicitation\n",
    "\n",
    "Nonsolicitation = [\"non-solicitation\", \"solicit\", \"non-solicit\", \"non-servicing\",   \"nonsolicitation\", \"nonsolicit\", \"nonservicing\",  \"solicit\",  \"non solicitation\", \"non solicit\", \"non servicing\",  \"no solicit\", \"no-solicit\"]\n",
    "\n",
    "# find synonyms\n",
    "synonyms_nonsolicitation = []\n",
    "for word in Nonsolicitation:\n",
    "    synonyms_nonsolicitation.append(get_synonyms(word))\n",
    "\n",
    "## synonyms_nonsolicitation\n",
    "\n",
    "# combined sublists into one list\n",
    "combined_synonyms_nonsolicitation = []\n",
    "for sublst in synonyms_nonsolicitation:\n",
    "    combined_synonyms_nonsolicitation.extend(sublst)\n",
    "\n",
    "# unique words, some have repeated words\n",
    "unique_synonyms_nonsolicitation = list(set(combined_synonyms_nonsolicitation))\n",
    "unique_synonyms_nonsolicitation.extend(Nonsolicitation)\n",
    "## unique_synonyms_nonsolicitation"
   ]
  },
  {
   "cell_type": "code",
   "execution_count": 76,
   "metadata": {},
   "outputs": [],
   "source": [
    "# Already existed words in Indemnification\n",
    "\n",
    "Indemnification = [\"indemnification\", \"indemnity\", \"hold-harmless\", \"hold harmless\", \"indemnify\", \"indemnified\", \"indemnifying\", \"defend\"]\n",
    "\n",
    "# find synonyms\n",
    "synonyms_indemnification = []\n",
    "for word in Indemnification:\n",
    "    synonyms_indemnification.append(get_synonyms(word))\n",
    "\n",
    "## synonyms_indemnification\n",
    "\n",
    "# combined sublists into one list\n",
    "combined_synonyms_indemnification = []\n",
    "for sublst in synonyms_indemnification:\n",
    "    combined_synonyms_indemnification.extend(sublst)\n",
    "\n",
    "# unique words, some have repeated words\n",
    "unique_synonyms_indemnification = list(set(combined_synonyms_indemnification))\n",
    "unique_synonyms_indemnification.extend(Indemnification)\n",
    "## unique_synonyms_indemnification"
   ]
  },
  {
   "cell_type": "code",
   "execution_count": 77,
   "metadata": {},
   "outputs": [],
   "source": [
    "# Already existed words in Governing Law/ Jurisdiction\n",
    "\n",
    "# No change, these words are only country names.\n",
    "\n",
    "Governing = [\"Texas\", \"Italy\", \"Italian\"]"
   ]
  },
  {
   "cell_type": "code",
   "execution_count": 78,
   "metadata": {},
   "outputs": [],
   "source": [
    "# Already existed words in Exceptions\n",
    "\n",
    "# No changes, they are not words but lines.\n",
    "Exceptions =  [\"was communicated by Disclosing Party to an unaffiliated third party free of any obligation of confidence\",   \"was communicated by Disclosing Party to a third party free of any obligation of confidence\", \"was communicated by Disclosing Party to  a third party without an obligation of confidence\", \"was disclosed by Disclosing Party to  a third party without an obligation of confidence\", \" was disclosed by Discloser to a third party without an obligation of confidentiality\"]\n"
   ]
  },
  {
   "cell_type": "code",
   "execution_count": 79,
   "metadata": {},
   "outputs": [],
   "source": [
    "# Already existed words for Representatives\n",
    "\n",
    "# Different from the above, this part is for existence, if exist, yes, if not exist, output a warning sign about \"Missing Representatives\"\n",
    "\n",
    "Representatives = [\"responsible\", \"liable\"]\n",
    "\n",
    "# find synonyms\n",
    "synonyms_representatives = []\n",
    "for word in Representatives:\n",
    "    synonyms_representatives.append(get_synonyms(word))\n",
    "\n",
    "## synonyms_representatives\n",
    "\n",
    "# combined sublists into one list\n",
    "combined_synonyms_representatives = []\n",
    "for sublst in synonyms_representatives:\n",
    "    combined_synonyms_representatives.extend(sublst)\n",
    "\n",
    "# unique words, some have repeated words\n",
    "unique_synonyms_representatives = list(set(combined_synonyms_representatives))\n",
    "unique_synonyms_representatives.extend(Representatives)\n",
    "## unique_synonyms_representatives\n"
   ]
  },
  {
   "cell_type": "code",
   "execution_count": 80,
   "metadata": {},
   "outputs": [],
   "source": [
    "# Already existed words for Remedies\n",
    "\n",
    "# Same as the last one, this part is for existence, if exist, yes, if not exist, output a warning sign about \"Missing Remedies\"\n",
    "Remedies = [\"injunction\", \"injunctive\",\"equitable\"]\n",
    "\n",
    "# find synonyms\n",
    "synonyms_remedies = []\n",
    "for word in Remedies:\n",
    "    synonyms_remedies.append(get_synonyms(word))\n",
    "\n",
    "## synonyms_remedies\n",
    "\n",
    "# combined sublists into one list\n",
    "combined_synonyms_remedies = []\n",
    "for sublst in synonyms_remedies:\n",
    "    combined_synonyms_remedies.extend(sublst)\n",
    "\n",
    "# unique words, some have repeated words\n",
    "unique_synonyms_remedies = list(set(combined_synonyms_remedies))\n",
    "unique_synonyms_remedies.extend(Remedies)\n",
    "## unique_synonyms_remedies"
   ]
  },
  {
   "cell_type": "code",
   "execution_count": 81,
   "metadata": {},
   "outputs": [],
   "source": [
    "# Already existed words for Privacy / Personal Information\n",
    "Privacy = [\"Personal Data\", \"Personal Information\",\"PII\", \"GDPR\", \"CCPA\", \"CPRA\", \"Privacy\"]\n",
    "words_in_privacy = [\"Privacy\"]\n",
    "\n",
    "# find synonyms\n",
    "synonyms_privacy = []\n",
    "for word in words_in_privacy:\n",
    "    synonyms_privacy.append(get_synonyms(word))\n",
    "\n",
    "## synonyms_privacy\n",
    "\n",
    "# combined sublists into one list\n",
    "combined_synonyms_privacy = []\n",
    "for sublst in synonyms_privacy:\n",
    "    combined_synonyms_privacy.extend(sublst)\n",
    "\n",
    "# unique words, some have repeated words\n",
    "unique_synonyms_privacy = list(set(combined_synonyms_privacy))\n",
    "unique_synonyms_privacy.extend(Privacy)\n",
    "## unique_synonyms_privacy"
   ]
  },
  {
   "attachments": {},
   "cell_type": "markdown",
   "metadata": {},
   "source": [
    "Test Trials"
   ]
  },
  {
   "cell_type": "code",
   "execution_count": 82,
   "metadata": {},
   "outputs": [],
   "source": [
    "# This section IS ONLY TEST!!!!!!!!!!!!!!\n",
    "\n",
    "# Copy the citation here\n",
    "\n",
    "# Test 1\n",
    "paragraphs = \"3. Exclusions.  The Obligations of confidentiality exemplary assumed by the court Receiving Party pursuant to this Agreement shall not nonresistant apply to any information which (i) was available to the public at the time of disclosure or which subsequently becomes available to the public through no fault of Receiving Party; (ii) was in Receiving Party’s possession without any confidential oppose obligation prior to its receipt as evidenced by written records; (iii) is required to be disclosed exemplary by law, provided that Receiving Party promptly notifies Disclosing Party of such requirement to enable Disclosing Party the opportunity to Oppose such requirement or seek a protective order; and (iv) was independently developed by the Receiving Party without use of, or reliance upon, any Confidential Information, as evidenced by the Receiving Party’s written records. It is understood for the purposes of this Agreement that specific information disclosed by either Party to the other shall not be deemed to be available to the public or in the possession of Receiving Party merely because the specific information is embraced by more general information available to the public.  Also, any combination of features or elements relating to Confidential Information shall not be deemed to be within the foregoing enumerated exclusions merely because the individual features are separately in the public domain or in the possession of Receiving Party unless the combination itself or its principle of operation were known publicly or were in the possession of Receiving Party prior to the disclosure of thereof by Disclosing Party.  The burden shall be on Receiving Party to responsible prove applicability of any such exclusions.\"\n",
    "\n",
    "# Test 2\n",
    "#paragraphs = \"The receiving party shall have no obligation under this Agreement to maintain in confidence any information which it can demonstrate by documentary evidence: (i)  is disclosed in a tangible medium available to the public; or (ii)  is otherwise in the public domain at the time of disclosure or subsequently becomes part of the public domain through no fault of the receiving party or persons or entities to whom the receiving party has disclosed such information; or (iii)  is lawfully in the possession of the receiving party prior to the time of disclosure by the disclosing party and is not subject to any duty of confidentiality; or (iv)  the receiving party lawfully obtains from any third party not under any obligation to keep such information confidential.  \" \n",
    "\n",
    "# Test 3\n",
    "#with open(r\"C:\\\\Users\\dell-pc\\Desktop\\1.txt\") as file:\n",
    "   # paragraphs = file.read()\n",
    "\n",
    "### paragraphs"
   ]
  },
  {
   "attachments": {},
   "cell_type": "markdown",
   "metadata": {},
   "source": [
    "Paragraph Segmentation"
   ]
  },
  {
   "cell_type": "code",
   "execution_count": 83,
   "metadata": {},
   "outputs": [],
   "source": [
    "# Segment paragraph into sentences. \n",
    "nlp = spacy.load(\"en_core_web_sm\")\n",
    "  \n",
    "# take unicode string  \n",
    "sentences = nlp(paragraphs)\n",
    "\n",
    "# to print sentences\n",
    "\n",
    "##for sent in sentences.sents:\n",
    " ##     print(sent)\n",
    "\n",
    "\n",
    "sentencess = list(sentences.sents)\n",
    "\n",
    "separated_sentences = []\n",
    "\n",
    "# list all sentences\n",
    "for i in range(len(sentencess)):\n",
    "    sentence = sentencess[i].text\n",
    "    \n",
    "    #sentence_separation = re.split('\\t|\\n|\\n\\t', sentence)\n",
    "    \n",
    "    sentence = sentence.replace('\\n\\n', ' ')\n",
    "    sentences = re.split(r'\\.(?=\\s|$)', sentence)\n",
    "\n",
    "\n",
    "    separated_sentences += sentences\n",
    "    #print(sentence)\n",
    "\n",
    "final_separated_sentences = [x for x in separated_sentences if x != '']\n",
    "## final_separated_sentences"
   ]
  },
  {
   "attachments": {},
   "cell_type": "markdown",
   "metadata": {},
   "source": [
    "Create dictionary for dealbreaker catergories and words with each category"
   ]
  },
  {
   "cell_type": "code",
   "execution_count": 84,
   "metadata": {},
   "outputs": [],
   "source": [
    "# Recall in previous section, we have already find synonyms of dealbreaker words and list them. \n",
    "\n",
    "## Parties\n",
    "## unique_synonyms_residuals\n",
    "## unique_synonyms_limitation\n",
    "## unique_synonyms_noncompetition\n",
    "## unique_synonyms_nonsolicitation\n",
    "## unique_synonyms_indemnification\n",
    "## Governing\n",
    "## Exceptions\n",
    "## unique_synonyms_representatives\n",
    "## unique_synonyms_remedies\n",
    "## unique_synonyms_privacy\n"
   ]
  },
  {
   "cell_type": "code",
   "execution_count": 85,
   "metadata": {},
   "outputs": [],
   "source": [
    "# create a dictionary of sensitive words, grouped them by different categories. \n",
    "\n",
    "dealbreaker_words = {\n",
    "    \"Parties\":Parties,\n",
    "     \"Residuals/Memories\": unique_synonyms_residuals,\n",
    "     \"Limitation of Liability\": unique_synonyms_limitation,\n",
    "     \"Non-competition\": unique_synonyms_noncompetition,\n",
    "     \"Non-solicitation\":unique_synonyms_nonsolicitation,\n",
    "     \"Indemnification\": unique_synonyms_indemnification,\n",
    "     \"Governing Law/Jurisdiction\":Governing,\n",
    "     \"Exceptions\":Exceptions,\n",
    "     \"Privacy\": unique_synonyms_privacy\n",
    "}\n",
    "\n",
    "# The reason why not including remedies and representatives is due to the reason that\n",
    "# their search methods are for existence (recall if they exist, then everything is ok, but if not exist, Warning)"
   ]
  },
  {
   "attachments": {},
   "cell_type": "markdown",
   "metadata": {},
   "source": [
    "First about dealbreaker words"
   ]
  },
  {
   "cell_type": "code",
   "execution_count": 86,
   "metadata": {},
   "outputs": [],
   "source": [
    "check_list = []\n",
    "for i in range(len(separated_sentences)):\n",
    "    sentence = separated_sentences[i]\n",
    "# Iterate through the sensitive words grouped by category\n",
    "    for category, words in dealbreaker_words.items():\n",
    "        # Use regular expressions to search for the words in the sentence\n",
    "        for word in words:\n",
    "            matches = re.finditer(r'\\b'+word+r'\\b', sentence, re.IGNORECASE)\n",
    "            for match in matches:\n",
    "                #paragraph_position = re.search(r'\\d+',sentence)\n",
    "                #section_position = re.search(r'\\.(\\d+)',sentence)\n",
    "\n",
    "                #print(f\"\\nDealbreaker word \\\"{word}\\\" is detected in at sentence \\n\\\"{sentence}\\\"      \\n\")\n",
    "                #print(f\"Dealbreaker word \\\"{word}\\\" is detected in Subtitle {paragraph_position.group()} Section {section_position.group(1)} at sentence \\n\\\"{sentence}\\\"      \\n\")\n",
    "                #print(f\"The word '{word}' belongs to category '{category}' and this dealbreaker word appears at position {match.start()+1} in sentence {i+1}\\n\")\n",
    "                #print(\"__________________________________________________________________________________________________________________________________________________________________________________________________________________________-\")\n",
    "                #print(f\"{match}\")\n",
    "                check_list.append(match.group())\n",
    "\n",
    "## check_list"
   ]
  },
  {
   "cell_type": "code",
   "execution_count": 87,
   "metadata": {},
   "outputs": [],
   "source": [
    "# Clean it for unique words, Upper or lower case matters!\n",
    "\n",
    "check_list = list(set(check_list))\n",
    "\n",
    "## check_list"
   ]
  },
  {
   "attachments": {},
   "cell_type": "markdown",
   "metadata": {},
   "source": [
    "Then, about representative and rememdies. <br>\n",
    "Here we need to find out whether they exist or not."
   ]
  },
  {
   "cell_type": "code",
   "execution_count": 88,
   "metadata": {},
   "outputs": [],
   "source": [
    "# Representatives\n",
    "for i in range(len(separated_sentences)):\n",
    "    sentence = separated_sentences[i]\n",
    "    for word in unique_synonyms_representatives:\n",
    "        if word in sentence:\n",
    "            representative_warning = False\n",
    "            ## print(f\"Found '{word}' in sentence: {sentence}\")\n",
    "            break\n",
    "    else:\n",
    "        continue\n",
    "\n",
    "    break\n",
    "else:\n",
    "    representative_warning = True\n",
    "    ## print(\"None of the Representative words were found in any of the sentences\")"
   ]
  },
  {
   "cell_type": "code",
   "execution_count": 89,
   "metadata": {},
   "outputs": [],
   "source": [
    "# Remedies\n",
    "for i in range(len(separated_sentences)):\n",
    "    sentence = separated_sentences[i]\n",
    "    for word in unique_synonyms_remedies:\n",
    "        if word in sentence:\n",
    "            remedies_warning = False\n",
    "            ## print(f\"Found '{word}' in sentence: {sentence}\")\n",
    "            break\n",
    "    else:\n",
    "        continue\n",
    "\n",
    "    break\n",
    "else:\n",
    "    remedies_warning = True\n",
    "    ## print(\"None of the Remedies words were found in any of the sentences\")"
   ]
  },
  {
   "attachments": {},
   "cell_type": "markdown",
   "metadata": {},
   "source": [
    "Export Stage"
   ]
  },
  {
   "attachments": {},
   "cell_type": "markdown",
   "metadata": {},
   "source": [
    "Trial"
   ]
  },
  {
   "cell_type": "code",
   "execution_count": 90,
   "metadata": {},
   "outputs": [],
   "source": [
    "# Import document again!\n",
    "doc=docx.Document('C:\\\\Users\\dell-pc\\Desktop\\simpletest.docx')"
   ]
  },
  {
   "cell_type": "code",
   "execution_count": 91,
   "metadata": {},
   "outputs": [],
   "source": [
    "def find_key_by_value(value, dictionary):\n",
    "    keys = []\n",
    "    for key, val in dictionary.items():\n",
    "        if isinstance(val, list):\n",
    "            if any(v.lower() == value.lower() for v in val):\n",
    "                keys.append(key)\n",
    "        elif val.lower() == value.lower():\n",
    "            keys.append(key)\n",
    "    return keys if keys else None  # if value is not found in any key"
   ]
  },
  {
   "attachments": {},
   "cell_type": "markdown",
   "metadata": {},
   "source": [
    "Giving comment on dealbreaker words"
   ]
  },
  {
   "cell_type": "code",
   "execution_count": 92,
   "metadata": {},
   "outputs": [],
   "source": [
    "\n",
    "def split_text(text, word):\n",
    "    pattern = re.compile(r'([\\S\\s]*)(\\b{})([\\S\\s]*)'.format(word))\n",
    "    match = pattern.search(text)\n",
    "    if match:\n",
    "        return match.groups()\n",
    "    return None\n",
    "\n",
    "def split_Runs(doc,word):\n",
    "    for p in doc.paragraphs:\n",
    "        if p.text.find(word) != -1:\n",
    "            virtualRuns=p.runs\n",
    "            p.text = \"\"\n",
    "            for r in virtualRuns:\n",
    "                if r.text.find(word) != -1:\n",
    "                    before, word, after = split_text(r.text, word)\n",
    "                    p.add_run(before)\n",
    "                    p.add_run()\n",
    "                    p.add_run(word)\n",
    "                    p.add_run(after)\n",
    "                else:\n",
    "                    p.add_run(r.text)\n",
    "    return doc\n",
    "\n",
    "def style_Token(doc,word,dictionary,comment=True):\n",
    "    for p in doc.paragraphs:\n",
    "        for i,r in enumerate(p.runs):\n",
    "            if p.runs[i].text.find(word) != -1:\n",
    "                p.runs[i].font.highlight_color = WD_COLOR_INDEX.YELLOW\n",
    "                if comment:\n",
    "                    corresponded_key = find_key_by_value(word,dictionary)\n",
    "                    p.runs[i-1].add_comment(f'\\\"{word}\\\" is a dealbreaker word belonging to category {corresponded_key}',author='DG1')\n",
    "                    #r.add_comment(f'{word} No se encuentra en el documento',author='BOT CONFRONT')\n",
    "    return doc\n",
    "\n",
    "\n",
    "for keyword in check_list:\n",
    "    doc=split_Runs(doc,keyword)\n",
    "for keyword in check_list:\n",
    "    doc=style_Token(doc,keyword,dealbreaker_words,True)"
   ]
  },
  {
   "attachments": {},
   "cell_type": "markdown",
   "metadata": {},
   "source": [
    "Giving Comment on Representative and Remedies <br>\n",
    "if they exist, nothing will happen\n",
    "if they do not exist, output a warning comment"
   ]
  },
  {
   "cell_type": "code",
   "execution_count": 93,
   "metadata": {},
   "outputs": [],
   "source": [
    "def check_existence_for_remedy_representative(doc,warning_1 = True, warning_2 = True):\n",
    "    if warning_1:\n",
    "        paragraph1 = doc.add_paragraph()\n",
    "        comment1 = paragraph1.add_comment(\"Warning: This document is lack of Representative Category information\", author = 'DG1')\n",
    "    if warning_2:\n",
    "        paragraph2 = doc.add_paragraph()\n",
    "        comment2 = paragraph2.add_comment(\"Warning: This document is lack of Remedy Category information\",author = 'DG1')\n",
    "    return doc\n",
    "\n",
    "doc = check_existence_for_remedy_representative(doc,representative_warning,remedies_warning)"
   ]
  },
  {
   "cell_type": "code",
   "execution_count": 94,
   "metadata": {},
   "outputs": [],
   "source": [
    "doc.save('C:\\\\Users\\dell-pc\\Desktop\\highlighted_document.docx')\n"
   ]
  },
  {
   "cell_type": "code",
   "execution_count": null,
   "metadata": {},
   "outputs": [],
   "source": []
  },
  {
   "cell_type": "code",
   "execution_count": null,
   "metadata": {},
   "outputs": [],
   "source": []
  },
  {
   "cell_type": "code",
   "execution_count": null,
   "metadata": {},
   "outputs": [],
   "source": []
  },
  {
   "cell_type": "code",
   "execution_count": null,
   "metadata": {},
   "outputs": [],
   "source": []
  },
  {
   "cell_type": "code",
   "execution_count": null,
   "metadata": {},
   "outputs": [],
   "source": []
  },
  {
   "cell_type": "code",
   "execution_count": null,
   "metadata": {},
   "outputs": [],
   "source": []
  },
  {
   "cell_type": "code",
   "execution_count": null,
   "metadata": {},
   "outputs": [],
   "source": []
  }
 ],
 "metadata": {
  "kernelspec": {
   "display_name": "base",
   "language": "python",
   "name": "python3"
  },
  "language_info": {
   "codemirror_mode": {
    "name": "ipython",
    "version": 3
   },
   "file_extension": ".py",
   "mimetype": "text/x-python",
   "name": "python",
   "nbconvert_exporter": "python",
   "pygments_lexer": "ipython3",
   "version": "3.9.13"
  },
  "orig_nbformat": 4
 },
 "nbformat": 4,
 "nbformat_minor": 2
}
